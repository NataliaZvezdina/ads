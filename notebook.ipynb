{
 "cells": [
  {
   "cell_type": "code",
   "execution_count": 68,
   "id": "39b3484f",
   "metadata": {},
   "outputs": [],
   "source": [
    "import pandas as pd\n",
    "import numpy as np\n",
    "\n",
    "import seaborn as sns\n",
    "import matplotlib.pyplot as plt\n",
    "import plotly.express as px\n",
    "\n",
    "import warnings\n",
    "warnings.filterwarnings(\"ignore\")"
   ]
  },
  {
   "cell_type": "code",
   "execution_count": 2,
   "id": "9f223341",
   "metadata": {},
   "outputs": [],
   "source": [
    "df_ads = pd.read_csv('ads_data.csv')\n",
    "df_clients = pd.read_csv('ads_clients_data.csv')"
   ]
  },
  {
   "cell_type": "code",
   "execution_count": 3,
   "id": "4f42844a",
   "metadata": {},
   "outputs": [
    {
     "data": {
      "text/html": [
       "<div>\n",
       "<style scoped>\n",
       "    .dataframe tbody tr th:only-of-type {\n",
       "        vertical-align: middle;\n",
       "    }\n",
       "\n",
       "    .dataframe tbody tr th {\n",
       "        vertical-align: top;\n",
       "    }\n",
       "\n",
       "    .dataframe thead th {\n",
       "        text-align: right;\n",
       "    }\n",
       "</style>\n",
       "<table border=\"1\" class=\"dataframe\">\n",
       "  <thead>\n",
       "    <tr style=\"text-align: right;\">\n",
       "      <th></th>\n",
       "      <th>date</th>\n",
       "      <th>time</th>\n",
       "      <th>event</th>\n",
       "      <th>platform</th>\n",
       "      <th>ad_id</th>\n",
       "      <th>client_union_id</th>\n",
       "      <th>campaign_union_id</th>\n",
       "      <th>ad_cost_type</th>\n",
       "      <th>ad_cost</th>\n",
       "      <th>has_video</th>\n",
       "      <th>target_audience_count</th>\n",
       "    </tr>\n",
       "  </thead>\n",
       "  <tbody>\n",
       "    <tr>\n",
       "      <th>0</th>\n",
       "      <td>2019-04-01</td>\n",
       "      <td>2019-04-01 00:00:48</td>\n",
       "      <td>view</td>\n",
       "      <td>android</td>\n",
       "      <td>45061</td>\n",
       "      <td>34734</td>\n",
       "      <td>45061</td>\n",
       "      <td>CPM</td>\n",
       "      <td>200.6</td>\n",
       "      <td>0</td>\n",
       "      <td>1955269</td>\n",
       "    </tr>\n",
       "    <tr>\n",
       "      <th>1</th>\n",
       "      <td>2019-04-01</td>\n",
       "      <td>2019-04-01 00:00:48</td>\n",
       "      <td>view</td>\n",
       "      <td>web</td>\n",
       "      <td>121288</td>\n",
       "      <td>121288</td>\n",
       "      <td>121288</td>\n",
       "      <td>CPM</td>\n",
       "      <td>187.4</td>\n",
       "      <td>0</td>\n",
       "      <td>232011</td>\n",
       "    </tr>\n",
       "    <tr>\n",
       "      <th>2</th>\n",
       "      <td>2019-04-01</td>\n",
       "      <td>2019-04-01 00:01:03</td>\n",
       "      <td>view</td>\n",
       "      <td>android</td>\n",
       "      <td>102737</td>\n",
       "      <td>102535</td>\n",
       "      <td>102564</td>\n",
       "      <td>CPC</td>\n",
       "      <td>60.7</td>\n",
       "      <td>0</td>\n",
       "      <td>4410</td>\n",
       "    </tr>\n",
       "    <tr>\n",
       "      <th>3</th>\n",
       "      <td>2019-04-01</td>\n",
       "      <td>2019-04-01 00:01:03</td>\n",
       "      <td>view</td>\n",
       "      <td>android</td>\n",
       "      <td>107564</td>\n",
       "      <td>106914</td>\n",
       "      <td>107564</td>\n",
       "      <td>CPM</td>\n",
       "      <td>217.3</td>\n",
       "      <td>0</td>\n",
       "      <td>62711</td>\n",
       "    </tr>\n",
       "    <tr>\n",
       "      <th>4</th>\n",
       "      <td>2019-04-01</td>\n",
       "      <td>2019-04-01 00:01:09</td>\n",
       "      <td>view</td>\n",
       "      <td>android</td>\n",
       "      <td>4922</td>\n",
       "      <td>37</td>\n",
       "      <td>4400</td>\n",
       "      <td>CPC</td>\n",
       "      <td>60.1</td>\n",
       "      <td>0</td>\n",
       "      <td>1183501</td>\n",
       "    </tr>\n",
       "  </tbody>\n",
       "</table>\n",
       "</div>"
      ],
      "text/plain": [
       "         date                 time event platform   ad_id  client_union_id  \\\n",
       "0  2019-04-01  2019-04-01 00:00:48  view  android   45061            34734   \n",
       "1  2019-04-01  2019-04-01 00:00:48  view      web  121288           121288   \n",
       "2  2019-04-01  2019-04-01 00:01:03  view  android  102737           102535   \n",
       "3  2019-04-01  2019-04-01 00:01:03  view  android  107564           106914   \n",
       "4  2019-04-01  2019-04-01 00:01:09  view  android    4922               37   \n",
       "\n",
       "   campaign_union_id ad_cost_type  ad_cost  has_video  target_audience_count  \n",
       "0              45061          CPM    200.6          0                1955269  \n",
       "1             121288          CPM    187.4          0                 232011  \n",
       "2             102564          CPC     60.7          0                   4410  \n",
       "3             107564          CPM    217.3          0                  62711  \n",
       "4               4400          CPC     60.1          0                1183501  "
      ]
     },
     "execution_count": 3,
     "metadata": {},
     "output_type": "execute_result"
    }
   ],
   "source": [
    "df_ads.head()"
   ]
  },
  {
   "cell_type": "code",
   "execution_count": 4,
   "id": "cc0081b9",
   "metadata": {},
   "outputs": [
    {
     "data": {
      "text/plain": [
       "(1000000, 11)"
      ]
     },
     "execution_count": 4,
     "metadata": {},
     "output_type": "execute_result"
    }
   ],
   "source": [
    "df_ads.shape"
   ]
  },
  {
   "cell_type": "code",
   "execution_count": 5,
   "id": "f2d7e603",
   "metadata": {},
   "outputs": [
    {
     "data": {
      "text/plain": [
       "date                      object\n",
       "time                      object\n",
       "event                     object\n",
       "platform                  object\n",
       "ad_id                      int64\n",
       "client_union_id            int64\n",
       "campaign_union_id          int64\n",
       "ad_cost_type              object\n",
       "ad_cost                  float64\n",
       "has_video                  int64\n",
       "target_audience_count      int64\n",
       "dtype: object"
      ]
     },
     "execution_count": 5,
     "metadata": {},
     "output_type": "execute_result"
    }
   ],
   "source": [
    "df_ads.dtypes"
   ]
  },
  {
   "cell_type": "code",
   "execution_count": 6,
   "id": "ba430f4f",
   "metadata": {},
   "outputs": [
    {
     "data": {
      "text/plain": [
       "date                     0\n",
       "time                     0\n",
       "event                    0\n",
       "platform                 0\n",
       "ad_id                    0\n",
       "client_union_id          0\n",
       "campaign_union_id        0\n",
       "ad_cost_type             0\n",
       "ad_cost                  0\n",
       "has_video                0\n",
       "target_audience_count    0\n",
       "dtype: int64"
      ]
     },
     "execution_count": 6,
     "metadata": {},
     "output_type": "execute_result"
    }
   ],
   "source": [
    "df_ads.isna().sum()"
   ]
  },
  {
   "cell_type": "code",
   "execution_count": 7,
   "id": "67bade4c",
   "metadata": {},
   "outputs": [
    {
     "data": {
      "text/html": [
       "<div>\n",
       "<style scoped>\n",
       "    .dataframe tbody tr th:only-of-type {\n",
       "        vertical-align: middle;\n",
       "    }\n",
       "\n",
       "    .dataframe tbody tr th {\n",
       "        vertical-align: top;\n",
       "    }\n",
       "\n",
       "    .dataframe thead th {\n",
       "        text-align: right;\n",
       "    }\n",
       "</style>\n",
       "<table border=\"1\" class=\"dataframe\">\n",
       "  <thead>\n",
       "    <tr style=\"text-align: right;\">\n",
       "      <th></th>\n",
       "      <th>ad_id</th>\n",
       "      <th>client_union_id</th>\n",
       "      <th>campaign_union_id</th>\n",
       "      <th>ad_cost</th>\n",
       "      <th>has_video</th>\n",
       "      <th>target_audience_count</th>\n",
       "    </tr>\n",
       "  </thead>\n",
       "  <tbody>\n",
       "    <tr>\n",
       "      <th>count</th>\n",
       "      <td>1000000.000000</td>\n",
       "      <td>1000000.000000</td>\n",
       "      <td>1000000.000000</td>\n",
       "      <td>1000000.000000</td>\n",
       "      <td>1000000.000000</td>\n",
       "      <td>1.000000e+06</td>\n",
       "    </tr>\n",
       "    <tr>\n",
       "      <th>mean</th>\n",
       "      <td>94521.639602</td>\n",
       "      <td>91435.486997</td>\n",
       "      <td>94368.663159</td>\n",
       "      <td>196.360579</td>\n",
       "      <td>0.005347</td>\n",
       "      <td>8.395493e+06</td>\n",
       "    </tr>\n",
       "    <tr>\n",
       "      <th>std</th>\n",
       "      <td>32391.671947</td>\n",
       "      <td>37019.314862</td>\n",
       "      <td>32316.740365</td>\n",
       "      <td>33.248420</td>\n",
       "      <td>0.072927</td>\n",
       "      <td>1.601787e+07</td>\n",
       "    </tr>\n",
       "    <tr>\n",
       "      <th>min</th>\n",
       "      <td>2.000000</td>\n",
       "      <td>1.000000</td>\n",
       "      <td>1.000000</td>\n",
       "      <td>33.200000</td>\n",
       "      <td>0.000000</td>\n",
       "      <td>1.090000e+02</td>\n",
       "    </tr>\n",
       "    <tr>\n",
       "      <th>25%</th>\n",
       "      <td>107729.000000</td>\n",
       "      <td>107076.000000</td>\n",
       "      <td>107728.000000</td>\n",
       "      <td>190.900000</td>\n",
       "      <td>0.000000</td>\n",
       "      <td>2.239200e+04</td>\n",
       "    </tr>\n",
       "    <tr>\n",
       "      <th>50%</th>\n",
       "      <td>112583.000000</td>\n",
       "      <td>111818.000000</td>\n",
       "      <td>112260.000000</td>\n",
       "      <td>208.700000</td>\n",
       "      <td>0.000000</td>\n",
       "      <td>3.275600e+04</td>\n",
       "    </tr>\n",
       "    <tr>\n",
       "      <th>75%</th>\n",
       "      <td>112583.000000</td>\n",
       "      <td>111818.000000</td>\n",
       "      <td>112260.000000</td>\n",
       "      <td>210.100000</td>\n",
       "      <td>0.000000</td>\n",
       "      <td>2.512711e+06</td>\n",
       "    </tr>\n",
       "    <tr>\n",
       "      <th>max</th>\n",
       "      <td>122078.000000</td>\n",
       "      <td>122078.000000</td>\n",
       "      <td>122078.000000</td>\n",
       "      <td>227.500000</td>\n",
       "      <td>1.000000</td>\n",
       "      <td>1.548271e+08</td>\n",
       "    </tr>\n",
       "  </tbody>\n",
       "</table>\n",
       "</div>"
      ],
      "text/plain": [
       "                ad_id  client_union_id  campaign_union_id         ad_cost  \\\n",
       "count  1000000.000000   1000000.000000     1000000.000000  1000000.000000   \n",
       "mean     94521.639602     91435.486997       94368.663159      196.360579   \n",
       "std      32391.671947     37019.314862       32316.740365       33.248420   \n",
       "min          2.000000         1.000000           1.000000       33.200000   \n",
       "25%     107729.000000    107076.000000      107728.000000      190.900000   \n",
       "50%     112583.000000    111818.000000      112260.000000      208.700000   \n",
       "75%     112583.000000    111818.000000      112260.000000      210.100000   \n",
       "max     122078.000000    122078.000000      122078.000000      227.500000   \n",
       "\n",
       "            has_video  target_audience_count  \n",
       "count  1000000.000000           1.000000e+06  \n",
       "mean         0.005347           8.395493e+06  \n",
       "std          0.072927           1.601787e+07  \n",
       "min          0.000000           1.090000e+02  \n",
       "25%          0.000000           2.239200e+04  \n",
       "50%          0.000000           3.275600e+04  \n",
       "75%          0.000000           2.512711e+06  \n",
       "max          1.000000           1.548271e+08  "
      ]
     },
     "execution_count": 7,
     "metadata": {},
     "output_type": "execute_result"
    }
   ],
   "source": [
    "df_ads.describe()"
   ]
  },
  {
   "cell_type": "markdown",
   "id": "6284ad5a",
   "metadata": {},
   "source": [
    "***\n",
    "Calculate average number of `views` and average number of `clicks` per advertisement for the entire period \n",
    "(It is important to note that some ads did not have clicks):"
   ]
  },
  {
   "cell_type": "code",
   "execution_count": 8,
   "id": "d91a33f7",
   "metadata": {},
   "outputs": [
    {
     "data": {
      "text/html": [
       "<div>\n",
       "<style scoped>\n",
       "    .dataframe tbody tr th:only-of-type {\n",
       "        vertical-align: middle;\n",
       "    }\n",
       "\n",
       "    .dataframe tbody tr th {\n",
       "        vertical-align: top;\n",
       "    }\n",
       "\n",
       "    .dataframe thead th {\n",
       "        text-align: right;\n",
       "    }\n",
       "</style>\n",
       "<table border=\"1\" class=\"dataframe\">\n",
       "  <thead>\n",
       "    <tr style=\"text-align: right;\">\n",
       "      <th></th>\n",
       "      <th>ad_id</th>\n",
       "      <th>event</th>\n",
       "      <th>num_events</th>\n",
       "    </tr>\n",
       "  </thead>\n",
       "  <tbody>\n",
       "    <tr>\n",
       "      <th>0</th>\n",
       "      <td>2</td>\n",
       "      <td>click</td>\n",
       "      <td>1</td>\n",
       "    </tr>\n",
       "    <tr>\n",
       "      <th>1</th>\n",
       "      <td>2</td>\n",
       "      <td>view</td>\n",
       "      <td>101</td>\n",
       "    </tr>\n",
       "    <tr>\n",
       "      <th>2</th>\n",
       "      <td>3</td>\n",
       "      <td>click</td>\n",
       "      <td>3</td>\n",
       "    </tr>\n",
       "    <tr>\n",
       "      <th>3</th>\n",
       "      <td>3</td>\n",
       "      <td>view</td>\n",
       "      <td>184</td>\n",
       "    </tr>\n",
       "    <tr>\n",
       "      <th>4</th>\n",
       "      <td>1902</td>\n",
       "      <td>click</td>\n",
       "      <td>1</td>\n",
       "    </tr>\n",
       "    <tr>\n",
       "      <th>...</th>\n",
       "      <td>...</td>\n",
       "      <td>...</td>\n",
       "      <td>...</td>\n",
       "    </tr>\n",
       "    <tr>\n",
       "      <th>1476</th>\n",
       "      <td>122013</td>\n",
       "      <td>view</td>\n",
       "      <td>156</td>\n",
       "    </tr>\n",
       "    <tr>\n",
       "      <th>1477</th>\n",
       "      <td>122023</td>\n",
       "      <td>view</td>\n",
       "      <td>68</td>\n",
       "    </tr>\n",
       "    <tr>\n",
       "      <th>1478</th>\n",
       "      <td>122031</td>\n",
       "      <td>click</td>\n",
       "      <td>1</td>\n",
       "    </tr>\n",
       "    <tr>\n",
       "      <th>1479</th>\n",
       "      <td>122031</td>\n",
       "      <td>view</td>\n",
       "      <td>138</td>\n",
       "    </tr>\n",
       "    <tr>\n",
       "      <th>1480</th>\n",
       "      <td>122078</td>\n",
       "      <td>view</td>\n",
       "      <td>42</td>\n",
       "    </tr>\n",
       "  </tbody>\n",
       "</table>\n",
       "<p>1481 rows × 3 columns</p>\n",
       "</div>"
      ],
      "text/plain": [
       "       ad_id  event  num_events\n",
       "0          2  click           1\n",
       "1          2   view         101\n",
       "2          3  click           3\n",
       "3          3   view         184\n",
       "4       1902  click           1\n",
       "...      ...    ...         ...\n",
       "1476  122013   view         156\n",
       "1477  122023   view          68\n",
       "1478  122031  click           1\n",
       "1479  122031   view         138\n",
       "1480  122078   view          42\n",
       "\n",
       "[1481 rows x 3 columns]"
      ]
     },
     "execution_count": 8,
     "metadata": {},
     "output_type": "execute_result"
    }
   ],
   "source": [
    "ad_events = df_ads \\\n",
    "                .groupby(['ad_id', 'event'], as_index=False) \\\n",
    "                .agg({'date': 'count'}) \\\n",
    "                .rename(columns={'date': 'num_events'})\n",
    "ad_events    "
   ]
  },
  {
   "cell_type": "code",
   "execution_count": 9,
   "id": "4315fecd-41ab-44fa-8523-36114b4b526e",
   "metadata": {},
   "outputs": [
    {
     "data": {
      "text/html": [
       "<div>\n",
       "<style scoped>\n",
       "    .dataframe tbody tr th:only-of-type {\n",
       "        vertical-align: middle;\n",
       "    }\n",
       "\n",
       "    .dataframe tbody tr th {\n",
       "        vertical-align: top;\n",
       "    }\n",
       "\n",
       "    .dataframe thead th {\n",
       "        text-align: right;\n",
       "    }\n",
       "</style>\n",
       "<table border=\"1\" class=\"dataframe\">\n",
       "  <thead>\n",
       "    <tr style=\"text-align: right;\">\n",
       "      <th>event</th>\n",
       "      <th>ad_id</th>\n",
       "      <th>click</th>\n",
       "      <th>view</th>\n",
       "    </tr>\n",
       "  </thead>\n",
       "  <tbody>\n",
       "    <tr>\n",
       "      <th>0</th>\n",
       "      <td>2</td>\n",
       "      <td>1.0</td>\n",
       "      <td>101.0</td>\n",
       "    </tr>\n",
       "    <tr>\n",
       "      <th>1</th>\n",
       "      <td>3</td>\n",
       "      <td>3.0</td>\n",
       "      <td>184.0</td>\n",
       "    </tr>\n",
       "    <tr>\n",
       "      <th>2</th>\n",
       "      <td>1902</td>\n",
       "      <td>1.0</td>\n",
       "      <td>41.0</td>\n",
       "    </tr>\n",
       "    <tr>\n",
       "      <th>3</th>\n",
       "      <td>2064</td>\n",
       "      <td>0.0</td>\n",
       "      <td>35.0</td>\n",
       "    </tr>\n",
       "    <tr>\n",
       "      <th>4</th>\n",
       "      <td>2132</td>\n",
       "      <td>1.0</td>\n",
       "      <td>58.0</td>\n",
       "    </tr>\n",
       "    <tr>\n",
       "      <th>...</th>\n",
       "      <td>...</td>\n",
       "      <td>...</td>\n",
       "      <td>...</td>\n",
       "    </tr>\n",
       "    <tr>\n",
       "      <th>960</th>\n",
       "      <td>122004</td>\n",
       "      <td>4.0</td>\n",
       "      <td>100.0</td>\n",
       "    </tr>\n",
       "    <tr>\n",
       "      <th>961</th>\n",
       "      <td>122013</td>\n",
       "      <td>0.0</td>\n",
       "      <td>156.0</td>\n",
       "    </tr>\n",
       "    <tr>\n",
       "      <th>962</th>\n",
       "      <td>122023</td>\n",
       "      <td>0.0</td>\n",
       "      <td>68.0</td>\n",
       "    </tr>\n",
       "    <tr>\n",
       "      <th>963</th>\n",
       "      <td>122031</td>\n",
       "      <td>1.0</td>\n",
       "      <td>138.0</td>\n",
       "    </tr>\n",
       "    <tr>\n",
       "      <th>964</th>\n",
       "      <td>122078</td>\n",
       "      <td>0.0</td>\n",
       "      <td>42.0</td>\n",
       "    </tr>\n",
       "  </tbody>\n",
       "</table>\n",
       "<p>965 rows × 3 columns</p>\n",
       "</div>"
      ],
      "text/plain": [
       "event   ad_id  click   view\n",
       "0           2    1.0  101.0\n",
       "1           3    3.0  184.0\n",
       "2        1902    1.0   41.0\n",
       "3        2064    0.0   35.0\n",
       "4        2132    1.0   58.0\n",
       "..        ...    ...    ...\n",
       "960    122004    4.0  100.0\n",
       "961    122013    0.0  156.0\n",
       "962    122023    0.0   68.0\n",
       "963    122031    1.0  138.0\n",
       "964    122078    0.0   42.0\n",
       "\n",
       "[965 rows x 3 columns]"
      ]
     },
     "execution_count": 9,
     "metadata": {},
     "output_type": "execute_result"
    }
   ],
   "source": [
    "ad_vs_events_pivot = ad_events.pivot(index='ad_id',\n",
    "                                    columns='event', \n",
    "                                    values='num_events') \\\n",
    "                              .reset_index() \\\n",
    "                              .fillna(0)\n",
    "ad_vs_events_pivot"
   ]
  },
  {
   "cell_type": "code",
   "execution_count": 10,
   "id": "a371e22c",
   "metadata": {},
   "outputs": [
    {
     "data": {
      "text/plain": [
       "113.1378238341969"
      ]
     },
     "execution_count": 10,
     "metadata": {},
     "output_type": "execute_result"
    }
   ],
   "source": [
    "ad_vs_events_pivot.click.mean()"
   ]
  },
  {
   "cell_type": "code",
   "execution_count": 11,
   "id": "0875da79-de51-4ee6-bc6b-724a9bec821c",
   "metadata": {},
   "outputs": [
    {
     "data": {
      "text/plain": [
       "923.1316062176165"
      ]
     },
     "execution_count": 11,
     "metadata": {},
     "output_type": "execute_result"
    }
   ],
   "source": [
    "ad_vs_events_pivot.view.mean()"
   ]
  },
  {
   "cell_type": "markdown",
   "id": "5f98e39e-ed2e-4ce0-b51a-050ef28ed3ae",
   "metadata": {},
   "source": [
    "***\n",
    "Draw a distribution for the advertisements with views for the entire period:"
   ]
  },
  {
   "cell_type": "code",
   "execution_count": 12,
   "id": "b2fbe1b4-e629-4c8b-a3e0-00f50437c953",
   "metadata": {},
   "outputs": [
    {
     "data": {
      "image/png": "[encoded data removed]",
      "text/plain": [
       "<Figure size 864x576 with 1 Axes>"
      ]
     },
     "metadata": {},
     "output_type": "display_data"
    }
   ],
   "source": [
    "sns.set(font_scale=1,\n",
    "        style='whitegrid',\n",
    "        rc={'figure.figsize': (12, 8)})\n",
    "sns.distplot(ad_events[ad_events['event'] == 'view'].num_events);"
   ]
  },
  {
   "cell_type": "markdown",
   "id": "b3e1db82",
   "metadata": {},
   "source": [
    "For illustrative purposes, take the logarithm from events number and plot the distribution of events(views) on advertisements."
   ]
  },
  {
   "cell_type": "code",
   "execution_count": 13,
   "id": "51d0dbaa",
   "metadata": {},
   "outputs": [],
   "source": [
    "ad_events['log_views'] = np.log(ad_events.num_events)"
   ]
  },
  {
   "cell_type": "code",
   "execution_count": 14,
   "id": "c150b6f6",
   "metadata": {},
   "outputs": [
    {
     "data": {
      "image/png": "[encoded data removed]",
      "text/plain": [
       "<Figure size 864x576 with 1 Axes>"
      ]
     },
     "metadata": {},
     "output_type": "display_data"
    }
   ],
   "source": [
    "sns.distplot(ad_events[ad_events['event'] == 'view'].log_views);"
   ]
  },
  {
   "cell_type": "markdown",
   "id": "7ca9b4e6",
   "metadata": {},
   "source": [
    "***\n",
    "Now let’s calculate the `average` number of ad views per day and then  by this data calculate the `moving average` of views with `window=2`. What is the moving average for April 6, 2019 (round to whole)?"
   ]
  },
  {
   "cell_type": "code",
   "execution_count": 15,
   "id": "f1f2ec12",
   "metadata": {},
   "outputs": [],
   "source": [
    "view_vs_date = df_ads \\\n",
    "                    .query('event == \"view\"') \\\n",
    "                    .pivot_table(index='ad_id', \n",
    "                                 columns='date', \n",
    "                                 values='time', \n",
    "                                 aggfunc='count')"
   ]
  },
  {
   "cell_type": "code",
   "execution_count": 16,
   "id": "dfe7f5f1",
   "metadata": {},
   "outputs": [
    {
     "data": {
      "text/html": [
       "<div>\n",
       "<style scoped>\n",
       "    .dataframe tbody tr th:only-of-type {\n",
       "        vertical-align: middle;\n",
       "    }\n",
       "\n",
       "    .dataframe tbody tr th {\n",
       "        vertical-align: top;\n",
       "    }\n",
       "\n",
       "    .dataframe thead th {\n",
       "        text-align: right;\n",
       "    }\n",
       "</style>\n",
       "<table border=\"1\" class=\"dataframe\">\n",
       "  <thead>\n",
       "    <tr style=\"text-align: right;\">\n",
       "      <th>date</th>\n",
       "      <th>2019-04-01</th>\n",
       "      <th>2019-04-02</th>\n",
       "      <th>2019-04-03</th>\n",
       "      <th>2019-04-04</th>\n",
       "      <th>2019-04-05</th>\n",
       "      <th>2019-04-06</th>\n",
       "    </tr>\n",
       "    <tr>\n",
       "      <th>ad_id</th>\n",
       "      <th></th>\n",
       "      <th></th>\n",
       "      <th></th>\n",
       "      <th></th>\n",
       "      <th></th>\n",
       "      <th></th>\n",
       "    </tr>\n",
       "  </thead>\n",
       "  <tbody>\n",
       "    <tr>\n",
       "      <th>2</th>\n",
       "      <td>83.0</td>\n",
       "      <td>18.0</td>\n",
       "      <td>NaN</td>\n",
       "      <td>NaN</td>\n",
       "      <td>NaN</td>\n",
       "      <td>NaN</td>\n",
       "    </tr>\n",
       "    <tr>\n",
       "      <th>3</th>\n",
       "      <td>158.0</td>\n",
       "      <td>26.0</td>\n",
       "      <td>NaN</td>\n",
       "      <td>NaN</td>\n",
       "      <td>NaN</td>\n",
       "      <td>NaN</td>\n",
       "    </tr>\n",
       "    <tr>\n",
       "      <th>1902</th>\n",
       "      <td>NaN</td>\n",
       "      <td>NaN</td>\n",
       "      <td>34.0</td>\n",
       "      <td>7.0</td>\n",
       "      <td>NaN</td>\n",
       "      <td>NaN</td>\n",
       "    </tr>\n",
       "    <tr>\n",
       "      <th>2064</th>\n",
       "      <td>NaN</td>\n",
       "      <td>28.0</td>\n",
       "      <td>7.0</td>\n",
       "      <td>NaN</td>\n",
       "      <td>NaN</td>\n",
       "      <td>NaN</td>\n",
       "    </tr>\n",
       "    <tr>\n",
       "      <th>2132</th>\n",
       "      <td>NaN</td>\n",
       "      <td>NaN</td>\n",
       "      <td>25.0</td>\n",
       "      <td>27.0</td>\n",
       "      <td>6.0</td>\n",
       "      <td>NaN</td>\n",
       "    </tr>\n",
       "    <tr>\n",
       "      <th>...</th>\n",
       "      <td>...</td>\n",
       "      <td>...</td>\n",
       "      <td>...</td>\n",
       "      <td>...</td>\n",
       "      <td>...</td>\n",
       "      <td>...</td>\n",
       "    </tr>\n",
       "    <tr>\n",
       "      <th>122004</th>\n",
       "      <td>85.0</td>\n",
       "      <td>15.0</td>\n",
       "      <td>NaN</td>\n",
       "      <td>NaN</td>\n",
       "      <td>NaN</td>\n",
       "      <td>NaN</td>\n",
       "    </tr>\n",
       "    <tr>\n",
       "      <th>122013</th>\n",
       "      <td>NaN</td>\n",
       "      <td>NaN</td>\n",
       "      <td>NaN</td>\n",
       "      <td>134.0</td>\n",
       "      <td>22.0</td>\n",
       "      <td>NaN</td>\n",
       "    </tr>\n",
       "    <tr>\n",
       "      <th>122023</th>\n",
       "      <td>NaN</td>\n",
       "      <td>NaN</td>\n",
       "      <td>NaN</td>\n",
       "      <td>53.0</td>\n",
       "      <td>15.0</td>\n",
       "      <td>NaN</td>\n",
       "    </tr>\n",
       "    <tr>\n",
       "      <th>122031</th>\n",
       "      <td>NaN</td>\n",
       "      <td>NaN</td>\n",
       "      <td>NaN</td>\n",
       "      <td>NaN</td>\n",
       "      <td>119.0</td>\n",
       "      <td>19.0</td>\n",
       "    </tr>\n",
       "    <tr>\n",
       "      <th>122078</th>\n",
       "      <td>NaN</td>\n",
       "      <td>NaN</td>\n",
       "      <td>36.0</td>\n",
       "      <td>6.0</td>\n",
       "      <td>NaN</td>\n",
       "      <td>NaN</td>\n",
       "    </tr>\n",
       "  </tbody>\n",
       "</table>\n",
       "<p>956 rows × 6 columns</p>\n",
       "</div>"
      ],
      "text/plain": [
       "date    2019-04-01  2019-04-02  2019-04-03  2019-04-04  2019-04-05  2019-04-06\n",
       "ad_id                                                                         \n",
       "2             83.0        18.0         NaN         NaN         NaN         NaN\n",
       "3            158.0        26.0         NaN         NaN         NaN         NaN\n",
       "1902           NaN         NaN        34.0         7.0         NaN         NaN\n",
       "2064           NaN        28.0         7.0         NaN         NaN         NaN\n",
       "2132           NaN         NaN        25.0        27.0         6.0         NaN\n",
       "...            ...         ...         ...         ...         ...         ...\n",
       "122004        85.0        15.0         NaN         NaN         NaN         NaN\n",
       "122013         NaN         NaN         NaN       134.0        22.0         NaN\n",
       "122023         NaN         NaN         NaN        53.0        15.0         NaN\n",
       "122031         NaN         NaN         NaN         NaN       119.0        19.0\n",
       "122078         NaN         NaN        36.0         6.0         NaN         NaN\n",
       "\n",
       "[956 rows x 6 columns]"
      ]
     },
     "execution_count": 16,
     "metadata": {},
     "output_type": "execute_result"
    }
   ],
   "source": [
    "view_vs_date"
   ]
  },
  {
   "cell_type": "code",
   "execution_count": 17,
   "id": "de2ca7b5",
   "metadata": {},
   "outputs": [],
   "source": [
    "mean_views = view_vs_date.mean()"
   ]
  },
  {
   "cell_type": "code",
   "execution_count": 18,
   "id": "894e90ef",
   "metadata": {},
   "outputs": [
    {
     "data": {
      "text/plain": [
       "date\n",
       "2019-04-01    154.482270\n",
       "2019-04-02    137.786982\n",
       "2019-04-03    163.952778\n",
       "2019-04-04    675.901720\n",
       "2019-04-05    919.109677\n",
       "2019-04-06    277.122727\n",
       "dtype: float64"
      ]
     },
     "execution_count": 18,
     "metadata": {},
     "output_type": "execute_result"
    }
   ],
   "source": [
    "mean_views"
   ]
  },
  {
   "cell_type": "code",
   "execution_count": 19,
   "id": "22bfc1b9",
   "metadata": {},
   "outputs": [],
   "source": [
    "rolling_mean_views = mean_views.rolling(2).mean()"
   ]
  },
  {
   "cell_type": "code",
   "execution_count": 20,
   "id": "af026fde",
   "metadata": {},
   "outputs": [
    {
     "data": {
      "text/plain": [
       "date\n",
       "2019-04-01           NaN\n",
       "2019-04-02    146.134626\n",
       "2019-04-03    150.869880\n",
       "2019-04-04    419.927249\n",
       "2019-04-05    797.505699\n",
       "2019-04-06    598.116202\n",
       "dtype: float64"
      ]
     },
     "execution_count": 20,
     "metadata": {},
     "output_type": "execute_result"
    }
   ],
   "source": [
    "rolling_mean_views"
   ]
  },
  {
   "cell_type": "code",
   "execution_count": 21,
   "id": "f8e63984",
   "metadata": {},
   "outputs": [
    {
     "data": {
      "text/plain": [
       "598.0"
      ]
     },
     "execution_count": 21,
     "metadata": {},
     "output_type": "execute_result"
    }
   ],
   "source": [
    "rolling_mean_views \\\n",
    "    .loc['2019-04-06'] \\\n",
    "    .round()"
   ]
  },
  {
   "cell_type": "markdown",
   "id": "2efcc673",
   "metadata": {},
   "source": [
    "***\n",
    "Moving averages are often used to find `anomalies` in data. Let’s try to apply the average and moving average of views by days to one plot. On what day is the largest difference modulo between the arithmetic mean and the rolling mean observed?"
   ]
  },
  {
   "cell_type": "code",
   "execution_count": 22,
   "id": "945773f4",
   "metadata": {},
   "outputs": [
    {
     "data": {
      "image/png": "[encoded data removed]",
      "text/plain": [
       "<Figure size 864x576 with 1 Axes>"
      ]
     },
     "metadata": {},
     "output_type": "display_data"
    }
   ],
   "source": [
    "sns.lineplot(data=mean_views, label='mean views')\n",
    "sns.lineplot(data=rolling_mean_views, label='rolling mean views');"
   ]
  },
  {
   "cell_type": "code",
   "execution_count": 23,
   "id": "deb44590",
   "metadata": {},
   "outputs": [],
   "source": [
    "anomaly_day = mean_views \\\n",
    "                .sub(rolling_mean_views) \\\n",
    "                .abs() \\\n",
    "                .idxmax()"
   ]
  },
  {
   "cell_type": "code",
   "execution_count": 24,
   "id": "1fa20a7a",
   "metadata": {},
   "outputs": [
    {
     "data": {
      "text/plain": [
       "'2019-04-06'"
      ]
     },
     "execution_count": 24,
     "metadata": {},
     "output_type": "execute_result"
    }
   ],
   "source": [
    "anomaly_day"
   ]
  },
  {
   "cell_type": "markdown",
   "id": "aa2c1c94",
   "metadata": {},
   "source": [
    "***\n",
    "Write a `function` that will find a `problem ad` (with the largest/least number of views) on the day on which the largest modulo `anomaly` was observed."
   ]
  },
  {
   "cell_type": "code",
   "execution_count": 25,
   "id": "4f957725",
   "metadata": {},
   "outputs": [],
   "source": [
    "diff = mean_views.sub(rolling_mean_views)[anomaly_day]"
   ]
  },
  {
   "cell_type": "code",
   "execution_count": 26,
   "id": "39f0a6dd",
   "metadata": {},
   "outputs": [
    {
     "data": {
      "text/plain": [
       "-320.9934750733138"
      ]
     },
     "execution_count": 26,
     "metadata": {},
     "output_type": "execute_result"
    }
   ],
   "source": [
    "diff"
   ]
  },
  {
   "cell_type": "code",
   "execution_count": 27,
   "id": "831dbad7",
   "metadata": {},
   "outputs": [],
   "source": [
    "if diff <= 0:\n",
    "    anomaly_ad = view_vs_date[anomaly_day].idxmax()\n",
    "else:\n",
    "    anomaly_ad = view_vs_date[anomaly_day].idxmin()"
   ]
  },
  {
   "cell_type": "code",
   "execution_count": 28,
   "id": "106da4a7",
   "metadata": {},
   "outputs": [
    {
     "data": {
      "text/plain": [
       "112583"
      ]
     },
     "execution_count": 28,
     "metadata": {},
     "output_type": "execute_result"
    }
   ],
   "source": [
    "anomaly_ad"
   ]
  },
  {
   "cell_type": "code",
   "execution_count": 29,
   "id": "94db3c2c",
   "metadata": {},
   "outputs": [],
   "source": [
    "def find_anomaly_ad(ads_vs_day_by_views):\n",
    "    mean_views = ads_vs_day_by_views.mean()\n",
    "    rolling_views = mean_views.rolling(2).mean()\n",
    "    delta_mean = mean_views.sub(rolling_views)\n",
    "    \n",
    "    anomaly_day = delta_mean \\\n",
    "                    .abs() \\\n",
    "                    .idxmax()\n",
    "    \n",
    "    diff = delta_mean[anomaly_day]\n",
    "    \n",
    "    if diff <= 0:\n",
    "        anomaly_ad = ads_vs_day_by_views[anomaly_day].idxmax()\n",
    "    else:\n",
    "        anomaly_ad = ads_vs_day_by_views[anomaly_day].idxmin()\n",
    "        \n",
    "    return anomaly_ad"
   ]
  },
  {
   "cell_type": "code",
   "execution_count": 30,
   "id": "5753bbf7",
   "metadata": {},
   "outputs": [
    {
     "data": {
      "text/plain": [
       "112583"
      ]
     },
     "execution_count": 30,
     "metadata": {},
     "output_type": "execute_result"
    }
   ],
   "source": [
    "find_anomaly_ad(view_vs_date)"
   ]
  },
  {
   "cell_type": "markdown",
   "id": "9341b13a",
   "metadata": {},
   "source": [
    "***\n",
    "Let's look at the advertising clients dataset and find the average number of days from the date of creation of the advertising client and the first advertisement launch by this client."
   ]
  },
  {
   "cell_type": "code",
   "execution_count": 31,
   "id": "ddf7159e",
   "metadata": {},
   "outputs": [
    {
     "data": {
      "text/html": [
       "<div>\n",
       "<style scoped>\n",
       "    .dataframe tbody tr th:only-of-type {\n",
       "        vertical-align: middle;\n",
       "    }\n",
       "\n",
       "    .dataframe tbody tr th {\n",
       "        vertical-align: top;\n",
       "    }\n",
       "\n",
       "    .dataframe thead th {\n",
       "        text-align: right;\n",
       "    }\n",
       "</style>\n",
       "<table border=\"1\" class=\"dataframe\">\n",
       "  <thead>\n",
       "    <tr style=\"text-align: right;\">\n",
       "      <th></th>\n",
       "      <th>date</th>\n",
       "      <th>client_union_id</th>\n",
       "      <th>community_id</th>\n",
       "      <th>create_date</th>\n",
       "    </tr>\n",
       "  </thead>\n",
       "  <tbody>\n",
       "    <tr>\n",
       "      <th>0</th>\n",
       "      <td>2020-05-07</td>\n",
       "      <td>1</td>\n",
       "      <td>-130371893</td>\n",
       "      <td>2018-12-24</td>\n",
       "    </tr>\n",
       "    <tr>\n",
       "      <th>1</th>\n",
       "      <td>2020-05-07</td>\n",
       "      <td>2</td>\n",
       "      <td>-130304626</td>\n",
       "      <td>2019-02-10</td>\n",
       "    </tr>\n",
       "    <tr>\n",
       "      <th>2</th>\n",
       "      <td>2020-05-07</td>\n",
       "      <td>3</td>\n",
       "      <td>-130462599</td>\n",
       "      <td>2019-01-25</td>\n",
       "    </tr>\n",
       "    <tr>\n",
       "      <th>3</th>\n",
       "      <td>2020-05-07</td>\n",
       "      <td>4</td>\n",
       "      <td>-130574300</td>\n",
       "      <td>2018-12-09</td>\n",
       "    </tr>\n",
       "    <tr>\n",
       "      <th>4</th>\n",
       "      <td>2020-05-07</td>\n",
       "      <td>5</td>\n",
       "      <td>-130292358</td>\n",
       "      <td>2019-01-08</td>\n",
       "    </tr>\n",
       "    <tr>\n",
       "      <th>...</th>\n",
       "      <td>...</td>\n",
       "      <td>...</td>\n",
       "      <td>...</td>\n",
       "      <td>...</td>\n",
       "    </tr>\n",
       "    <tr>\n",
       "      <th>122073</th>\n",
       "      <td>2020-05-07</td>\n",
       "      <td>122074</td>\n",
       "      <td>-130470790</td>\n",
       "      <td>2018-12-21</td>\n",
       "    </tr>\n",
       "    <tr>\n",
       "      <th>122074</th>\n",
       "      <td>2020-05-07</td>\n",
       "      <td>122075</td>\n",
       "      <td>-130911261</td>\n",
       "      <td>2018-11-09</td>\n",
       "    </tr>\n",
       "    <tr>\n",
       "      <th>122075</th>\n",
       "      <td>2020-05-07</td>\n",
       "      <td>122076</td>\n",
       "      <td>-130494912</td>\n",
       "      <td>2018-10-27</td>\n",
       "    </tr>\n",
       "    <tr>\n",
       "      <th>122076</th>\n",
       "      <td>2020-05-07</td>\n",
       "      <td>122077</td>\n",
       "      <td>-130910585</td>\n",
       "      <td>2018-12-05</td>\n",
       "    </tr>\n",
       "    <tr>\n",
       "      <th>122077</th>\n",
       "      <td>2020-05-07</td>\n",
       "      <td>122078</td>\n",
       "      <td>-130558729</td>\n",
       "      <td>2019-01-22</td>\n",
       "    </tr>\n",
       "  </tbody>\n",
       "</table>\n",
       "<p>122078 rows × 4 columns</p>\n",
       "</div>"
      ],
      "text/plain": [
       "              date  client_union_id  community_id create_date\n",
       "0       2020-05-07                1    -130371893  2018-12-24\n",
       "1       2020-05-07                2    -130304626  2019-02-10\n",
       "2       2020-05-07                3    -130462599  2019-01-25\n",
       "3       2020-05-07                4    -130574300  2018-12-09\n",
       "4       2020-05-07                5    -130292358  2019-01-08\n",
       "...            ...              ...           ...         ...\n",
       "122073  2020-05-07           122074    -130470790  2018-12-21\n",
       "122074  2020-05-07           122075    -130911261  2018-11-09\n",
       "122075  2020-05-07           122076    -130494912  2018-10-27\n",
       "122076  2020-05-07           122077    -130910585  2018-12-05\n",
       "122077  2020-05-07           122078    -130558729  2019-01-22\n",
       "\n",
       "[122078 rows x 4 columns]"
      ]
     },
     "execution_count": 31,
     "metadata": {},
     "output_type": "execute_result"
    }
   ],
   "source": [
    "df_clients"
   ]
  },
  {
   "cell_type": "code",
   "execution_count": 32,
   "id": "2689aa38",
   "metadata": {},
   "outputs": [
    {
     "data": {
      "text/plain": [
       "date               object\n",
       "client_union_id     int64\n",
       "community_id        int64\n",
       "create_date        object\n",
       "dtype: object"
      ]
     },
     "execution_count": 32,
     "metadata": {},
     "output_type": "execute_result"
    }
   ],
   "source": [
    "df_clients.dtypes"
   ]
  },
  {
   "cell_type": "code",
   "execution_count": 33,
   "id": "74f9aa15",
   "metadata": {},
   "outputs": [
    {
     "data": {
      "text/plain": [
       "date               0\n",
       "client_union_id    0\n",
       "community_id       0\n",
       "create_date        0\n",
       "dtype: int64"
      ]
     },
     "execution_count": 33,
     "metadata": {},
     "output_type": "execute_result"
    }
   ],
   "source": [
    "df_clients.isna().sum()"
   ]
  },
  {
   "cell_type": "code",
   "execution_count": 34,
   "id": "3ae9abf6",
   "metadata": {},
   "outputs": [],
   "source": [
    "df_full = df_clients \\\n",
    "            .drop(columns=['date', 'community_id']) \\\n",
    "            .merge(df_ads)"
   ]
  },
  {
   "cell_type": "code",
   "execution_count": 35,
   "id": "2449704f",
   "metadata": {},
   "outputs": [
    {
     "data": {
      "text/html": [
       "<div>\n",
       "<style scoped>\n",
       "    .dataframe tbody tr th:only-of-type {\n",
       "        vertical-align: middle;\n",
       "    }\n",
       "\n",
       "    .dataframe tbody tr th {\n",
       "        vertical-align: top;\n",
       "    }\n",
       "\n",
       "    .dataframe thead th {\n",
       "        text-align: right;\n",
       "    }\n",
       "</style>\n",
       "<table border=\"1\" class=\"dataframe\">\n",
       "  <thead>\n",
       "    <tr style=\"text-align: right;\">\n",
       "      <th></th>\n",
       "      <th>client_union_id</th>\n",
       "      <th>create_date</th>\n",
       "      <th>date</th>\n",
       "      <th>time</th>\n",
       "      <th>event</th>\n",
       "      <th>platform</th>\n",
       "      <th>ad_id</th>\n",
       "      <th>campaign_union_id</th>\n",
       "      <th>ad_cost_type</th>\n",
       "      <th>ad_cost</th>\n",
       "      <th>has_video</th>\n",
       "      <th>target_audience_count</th>\n",
       "    </tr>\n",
       "  </thead>\n",
       "  <tbody>\n",
       "    <tr>\n",
       "      <th>0</th>\n",
       "      <td>1</td>\n",
       "      <td>2018-12-24</td>\n",
       "      <td>2019-04-01</td>\n",
       "      <td>2019-04-01 00:08:51</td>\n",
       "      <td>view</td>\n",
       "      <td>android</td>\n",
       "      <td>3</td>\n",
       "      <td>1</td>\n",
       "      <td>CPC</td>\n",
       "      <td>46.7</td>\n",
       "      <td>0</td>\n",
       "      <td>45035</td>\n",
       "    </tr>\n",
       "    <tr>\n",
       "      <th>1</th>\n",
       "      <td>1</td>\n",
       "      <td>2018-12-24</td>\n",
       "      <td>2019-04-01</td>\n",
       "      <td>2019-04-01 00:09:36</td>\n",
       "      <td>view</td>\n",
       "      <td>ios</td>\n",
       "      <td>3</td>\n",
       "      <td>1</td>\n",
       "      <td>CPC</td>\n",
       "      <td>46.7</td>\n",
       "      <td>0</td>\n",
       "      <td>45035</td>\n",
       "    </tr>\n",
       "    <tr>\n",
       "      <th>2</th>\n",
       "      <td>1</td>\n",
       "      <td>2018-12-24</td>\n",
       "      <td>2019-04-01</td>\n",
       "      <td>2019-04-01 00:29:30</td>\n",
       "      <td>view</td>\n",
       "      <td>ios</td>\n",
       "      <td>3</td>\n",
       "      <td>1</td>\n",
       "      <td>CPC</td>\n",
       "      <td>46.7</td>\n",
       "      <td>0</td>\n",
       "      <td>45035</td>\n",
       "    </tr>\n",
       "    <tr>\n",
       "      <th>3</th>\n",
       "      <td>1</td>\n",
       "      <td>2018-12-24</td>\n",
       "      <td>2019-04-01</td>\n",
       "      <td>2019-04-01 00:29:58</td>\n",
       "      <td>view</td>\n",
       "      <td>android</td>\n",
       "      <td>3</td>\n",
       "      <td>1</td>\n",
       "      <td>CPC</td>\n",
       "      <td>46.7</td>\n",
       "      <td>0</td>\n",
       "      <td>45035</td>\n",
       "    </tr>\n",
       "    <tr>\n",
       "      <th>4</th>\n",
       "      <td>1</td>\n",
       "      <td>2018-12-24</td>\n",
       "      <td>2019-04-01</td>\n",
       "      <td>2019-04-01 00:51:54</td>\n",
       "      <td>view</td>\n",
       "      <td>android</td>\n",
       "      <td>3</td>\n",
       "      <td>1</td>\n",
       "      <td>CPC</td>\n",
       "      <td>46.7</td>\n",
       "      <td>0</td>\n",
       "      <td>45035</td>\n",
       "    </tr>\n",
       "  </tbody>\n",
       "</table>\n",
       "</div>"
      ],
      "text/plain": [
       "   client_union_id create_date        date                 time event  \\\n",
       "0                1  2018-12-24  2019-04-01  2019-04-01 00:08:51  view   \n",
       "1                1  2018-12-24  2019-04-01  2019-04-01 00:09:36  view   \n",
       "2                1  2018-12-24  2019-04-01  2019-04-01 00:29:30  view   \n",
       "3                1  2018-12-24  2019-04-01  2019-04-01 00:29:58  view   \n",
       "4                1  2018-12-24  2019-04-01  2019-04-01 00:51:54  view   \n",
       "\n",
       "  platform  ad_id  campaign_union_id ad_cost_type  ad_cost  has_video  \\\n",
       "0  android      3                  1          CPC     46.7          0   \n",
       "1      ios      3                  1          CPC     46.7          0   \n",
       "2      ios      3                  1          CPC     46.7          0   \n",
       "3  android      3                  1          CPC     46.7          0   \n",
       "4  android      3                  1          CPC     46.7          0   \n",
       "\n",
       "   target_audience_count  \n",
       "0                  45035  \n",
       "1                  45035  \n",
       "2                  45035  \n",
       "3                  45035  \n",
       "4                  45035  "
      ]
     },
     "execution_count": 35,
     "metadata": {},
     "output_type": "execute_result"
    }
   ],
   "source": [
    "df_full.head()"
   ]
  },
  {
   "cell_type": "code",
   "execution_count": 36,
   "id": "cd2cb6a1",
   "metadata": {},
   "outputs": [],
   "source": [
    "df_full[['date', 'create_date']] = df_full[['date', 'create_date']].apply(pd.to_datetime)"
   ]
  },
  {
   "cell_type": "code",
   "execution_count": 37,
   "id": "1d01017f",
   "metadata": {},
   "outputs": [
    {
     "data": {
      "text/plain": [
       "client_union_id                   int64\n",
       "create_date              datetime64[ns]\n",
       "date                     datetime64[ns]\n",
       "time                             object\n",
       "event                            object\n",
       "platform                         object\n",
       "ad_id                             int64\n",
       "campaign_union_id                 int64\n",
       "ad_cost_type                     object\n",
       "ad_cost                         float64\n",
       "has_video                         int64\n",
       "target_audience_count             int64\n",
       "dtype: object"
      ]
     },
     "execution_count": 37,
     "metadata": {},
     "output_type": "execute_result"
    }
   ],
   "source": [
    "df_full.dtypes"
   ]
  },
  {
   "cell_type": "code",
   "execution_count": 38,
   "id": "e8e83a84",
   "metadata": {},
   "outputs": [],
   "source": [
    "min_time_diff = df_full \\\n",
    "                .groupby('client_union_id') \\\n",
    "                .apply(lambda group: (group.date - group.create_date).min())"
   ]
  },
  {
   "cell_type": "code",
   "execution_count": 39,
   "id": "557f70d0",
   "metadata": {},
   "outputs": [
    {
     "data": {
      "text/plain": [
       "client_union_id\n",
       "1         98 days\n",
       "9        114 days\n",
       "13        66 days\n",
       "16       105 days\n",
       "20        32 days\n",
       "           ...   \n",
       "122004    67 days\n",
       "122013   151 days\n",
       "122023   126 days\n",
       "122031    96 days\n",
       "122078    71 days\n",
       "Length: 838, dtype: timedelta64[ns]"
      ]
     },
     "execution_count": 39,
     "metadata": {},
     "output_type": "execute_result"
    }
   ],
   "source": [
    "min_time_diff"
   ]
  },
  {
   "cell_type": "code",
   "execution_count": 40,
   "id": "14882352",
   "metadata": {},
   "outputs": [
    {
     "data": {
      "text/plain": [
       "Timedelta('124 days 09:04:43.532219570')"
      ]
     },
     "execution_count": 40,
     "metadata": {},
     "output_type": "execute_result"
    }
   ],
   "source": [
    "min_time_diff.mean()"
   ]
  },
  {
   "cell_type": "markdown",
   "id": "b938579e",
   "metadata": {},
   "source": [
    "***\n",
    "Calculate the `conversion` from creating an advertising client to running the first advertisement within a maximum of 365 days."
   ]
  },
  {
   "cell_type": "code",
   "execution_count": 41,
   "id": "e6503a5b",
   "metadata": {},
   "outputs": [],
   "source": [
    "threshold = pd.to_timedelta(365, unit='d')"
   ]
  },
  {
   "cell_type": "code",
   "execution_count": 42,
   "id": "f5e919cd",
   "metadata": {},
   "outputs": [
    {
     "data": {
      "text/plain": [
       "Timedelta('365 days 00:00:00')"
      ]
     },
     "execution_count": 42,
     "metadata": {},
     "output_type": "execute_result"
    }
   ],
   "source": [
    "threshold"
   ]
  },
  {
   "cell_type": "code",
   "execution_count": 43,
   "id": "4c120323",
   "metadata": {},
   "outputs": [
    {
     "data": {
      "text/plain": [
       "client_union_id\n",
       "1         True\n",
       "9         True\n",
       "13        True\n",
       "16        True\n",
       "20        True\n",
       "          ... \n",
       "122004    True\n",
       "122013    True\n",
       "122023    True\n",
       "122031    True\n",
       "122078    True\n",
       "Length: 838, dtype: bool"
      ]
     },
     "execution_count": 43,
     "metadata": {},
     "output_type": "execute_result"
    }
   ],
   "source": [
    "min_time_diff < threshold"
   ]
  },
  {
   "cell_type": "code",
   "execution_count": 53,
   "id": "2f5c26c2",
   "metadata": {},
   "outputs": [],
   "source": [
    "conversion = min_time_diff[min_time_diff < threshold].count() / df_clients.client_union_id.nunique() * 100"
   ]
  },
  {
   "cell_type": "code",
   "execution_count": 54,
   "id": "df9219d4",
   "metadata": {},
   "outputs": [
    {
     "data": {
      "text/plain": [
       "'conversion=0.6864463703533806%'"
      ]
     },
     "execution_count": 54,
     "metadata": {},
     "output_type": "execute_result"
    }
   ],
   "source": [
    "f'{conversion=}%'"
   ]
  },
  {
   "cell_type": "markdown",
   "id": "7ab4d177",
   "metadata": {},
   "source": [
    "Only `0.68%` of ads clients have converted for the first year after their registration."
   ]
  },
  {
   "cell_type": "markdown",
   "id": "d20d067f",
   "metadata": {},
   "source": [
    "***\n",
    "Let’s break down our customers into groups by periods `[0, 30, 90, 180, 365]` days between creating and running an ad.\n",
    "Determine how many unique customers have run their first ad in the first month of its existence (from `0` to `30` days)"
   ]
  },
  {
   "cell_type": "code",
   "execution_count": 57,
   "id": "b615eecc",
   "metadata": {},
   "outputs": [],
   "source": [
    "bins = pd.to_timedelta([0, 30, 90, 180, 365], unit='d')"
   ]
  },
  {
   "cell_type": "code",
   "execution_count": 63,
   "id": "0c207828",
   "metadata": {},
   "outputs": [],
   "source": [
    "clients_categories = pd.cut(min_time_diff, \n",
    "                      bins=bins, \n",
    "                      labels=['0-30', '30-90', '90-180', '180-365'])"
   ]
  },
  {
   "cell_type": "code",
   "execution_count": 64,
   "id": "f4a1855c",
   "metadata": {},
   "outputs": [
    {
     "data": {
      "text/plain": [
       "client_union_id\n",
       "1         90-180\n",
       "9         90-180\n",
       "13         30-90\n",
       "16        90-180\n",
       "20         30-90\n",
       "           ...  \n",
       "122004     30-90\n",
       "122013    90-180\n",
       "122023    90-180\n",
       "122031    90-180\n",
       "122078     30-90\n",
       "Length: 838, dtype: category\n",
       "Categories (4, object): ['0-30' < '30-90' < '90-180' < '180-365']"
      ]
     },
     "execution_count": 64,
     "metadata": {},
     "output_type": "execute_result"
    }
   ],
   "source": [
    "clients_categories"
   ]
  },
  {
   "cell_type": "code",
   "execution_count": 65,
   "id": "0dd0a7b0",
   "metadata": {},
   "outputs": [
    {
     "data": {
      "text/plain": [
       "11"
      ]
     },
     "execution_count": 65,
     "metadata": {},
     "output_type": "execute_result"
    }
   ],
   "source": [
    "clients_categories[clients_categories == '0-30'].count()"
   ]
  },
  {
   "cell_type": "markdown",
   "id": "8658a26c",
   "metadata": {},
   "source": [
    "And now let’s show these categories with the number of unique clients in them."
   ]
  },
  {
   "cell_type": "code",
   "execution_count": 70,
   "id": "a98327e0",
   "metadata": {},
   "outputs": [
    {
     "data": {
      "application/vnd.plotly.v1+json": {
       "config": {
        "plotlyServerURL": "https://plot.ly"
       },
       "data": [
        {
         "alignmentgroup": "True",
         "hovertemplate": "variable=0<br>value=%{x}<br>count=%{y}<extra></extra>",
         "legendgroup": "0",
         "marker": {
          "color": "#636efa",
          "pattern": {
           "shape": ""
          }
         },
         "name": "0",
         "offsetgroup": "0",
         "orientation": "v",
         "showlegend": true,
         "textposition": "auto",
         "type": "bar",
         "x": [
          "90-180",
          "90-180",
          "30-90",
          "90-180",
          "30-90",
          "90-180",
          "90-180",
          "30-90",
          "90-180",
          "90-180",
          "90-180",
          "180-365",
          "180-365",
          "180-365",
          "30-90",
          "90-180",
          "90-180",
          "90-180",
          "30-90",
          "180-365",
          "30-90",
          "90-180",
          "90-180",
          "90-180",
          "30-90",
          "90-180",
          "90-180",
          "30-90",
          "30-90",
          "30-90",
          "90-180",
          "180-365",
          "30-90",
          "180-365",
          "30-90",
          "90-180",
          "90-180",
          "180-365",
          "30-90",
          "90-180",
          "90-180",
          "30-90",
          "180-365",
          "180-365",
          "90-180",
          "30-90",
          "90-180",
          "90-180",
          "90-180",
          "30-90",
          "30-90",
          "180-365",
          "90-180",
          "30-90",
          "30-90",
          "90-180",
          "90-180",
          "90-180",
          "30-90",
          "90-180",
          "30-90",
          "30-90",
          "90-180",
          "30-90",
          "30-90",
          "90-180",
          "90-180",
          "90-180",
          "30-90",
          "90-180",
          "180-365",
          "90-180",
          "180-365",
          "30-90",
          "90-180",
          "30-90",
          "30-90",
          "180-365",
          "90-180",
          "90-180",
          "90-180",
          "180-365",
          "30-90",
          "30-90",
          "90-180",
          "90-180",
          "180-365",
          "30-90",
          "90-180",
          "90-180",
          "90-180",
          "90-180",
          "90-180",
          "90-180",
          "90-180",
          "0-30",
          "90-180",
          "180-365",
          "180-365",
          "90-180",
          "30-90",
          "90-180",
          "30-90",
          "180-365",
          "90-180",
          "90-180",
          "90-180",
          "90-180",
          "90-180",
          "30-90",
          "30-90",
          "90-180",
          "180-365",
          "90-180",
          "30-90",
          "90-180",
          "180-365",
          "30-90",
          "90-180",
          "90-180",
          "30-90",
          "90-180",
          "30-90",
          "90-180",
          "30-90",
          "180-365",
          "180-365",
          "30-90",
          "180-365",
          "90-180",
          "90-180",
          "30-90",
          "180-365",
          "30-90",
          "90-180",
          "90-180",
          "90-180",
          "90-180",
          "30-90",
          "90-180",
          "180-365",
          "180-365",
          "30-90",
          "30-90",
          "90-180",
          "30-90",
          "90-180",
          "90-180",
          "90-180",
          "30-90",
          "30-90",
          "30-90",
          "30-90",
          "180-365",
          "90-180",
          "30-90",
          "90-180",
          "90-180",
          "90-180",
          "30-90",
          "30-90",
          "30-90",
          "90-180",
          "30-90",
          "0-30",
          "90-180",
          "90-180",
          "180-365",
          "30-90",
          "180-365",
          "30-90",
          "90-180",
          "90-180",
          "30-90",
          "30-90",
          "90-180",
          "90-180",
          "90-180",
          "180-365",
          "30-90",
          "30-90",
          "90-180",
          "180-365",
          "180-365",
          "90-180",
          "90-180",
          "30-90",
          "180-365",
          "180-365",
          "30-90",
          "180-365",
          "90-180",
          "90-180",
          "30-90",
          "180-365",
          "30-90",
          "0-30",
          "90-180",
          "90-180",
          "90-180",
          "90-180",
          "30-90",
          "180-365",
          "30-90",
          "30-90",
          "30-90",
          "30-90",
          "90-180",
          "30-90",
          "30-90",
          "30-90",
          "90-180",
          "90-180",
          "90-180",
          "90-180",
          "90-180",
          "30-90",
          "30-90",
          "90-180",
          "90-180",
          "180-365",
          "30-90",
          "90-180",
          "90-180",
          "90-180",
          "90-180",
          "90-180",
          "90-180",
          "90-180",
          "90-180",
          "90-180",
          "30-90",
          "180-365",
          "30-90",
          "90-180",
          "180-365",
          "180-365",
          "180-365",
          "180-365",
          "90-180",
          "30-90",
          "180-365",
          "180-365",
          "90-180",
          "30-90",
          "30-90",
          "90-180",
          "90-180",
          "90-180",
          "90-180",
          "90-180",
          "30-90",
          "30-90",
          "30-90",
          "180-365",
          "30-90",
          "90-180",
          "90-180",
          "90-180",
          "90-180",
          "90-180",
          "30-90",
          "90-180",
          "90-180",
          "90-180",
          "30-90",
          "30-90",
          "180-365",
          "90-180",
          "180-365",
          "30-90",
          "30-90",
          "180-365",
          "90-180",
          "30-90",
          "90-180",
          "30-90",
          "90-180",
          "90-180",
          "90-180",
          "90-180",
          "30-90",
          "90-180",
          "30-90",
          "90-180",
          "30-90",
          "90-180",
          "180-365",
          "90-180",
          "180-365",
          "30-90",
          "90-180",
          "90-180",
          "180-365",
          "90-180",
          "90-180",
          "90-180",
          "90-180",
          "90-180",
          "30-90",
          "180-365",
          "90-180",
          "90-180",
          "90-180",
          "90-180",
          "30-90",
          "180-365",
          "180-365",
          "180-365",
          "180-365",
          "180-365",
          "90-180",
          "30-90",
          "90-180",
          "90-180",
          "90-180",
          "30-90",
          "180-365",
          "30-90",
          "180-365",
          "90-180",
          "90-180",
          "30-90",
          "180-365",
          "90-180",
          "90-180",
          "30-90",
          "30-90",
          "90-180",
          "30-90",
          "90-180",
          "90-180",
          "90-180",
          "180-365",
          "30-90",
          "30-90",
          "90-180",
          "180-365",
          "180-365",
          "180-365",
          "180-365",
          "30-90",
          "180-365",
          "30-90",
          "90-180",
          "30-90",
          "90-180",
          "90-180",
          "90-180",
          "90-180",
          "180-365",
          "30-90",
          "30-90",
          "0-30",
          "90-180",
          "90-180",
          "90-180",
          "90-180",
          "90-180",
          "90-180",
          "180-365",
          "90-180",
          "180-365",
          "30-90",
          "90-180",
          "180-365",
          "30-90",
          "30-90",
          "30-90",
          "180-365",
          "90-180",
          "90-180",
          "90-180",
          "30-90",
          "180-365",
          "90-180",
          "90-180",
          "30-90",
          "180-365",
          "90-180",
          "30-90",
          "180-365",
          "180-365",
          "90-180",
          "180-365",
          "90-180",
          "90-180",
          "90-180",
          "90-180",
          "180-365",
          "180-365",
          "90-180",
          "30-90",
          "30-90",
          "30-90",
          "30-90",
          "180-365",
          "30-90",
          "180-365",
          "180-365",
          "0-30",
          "30-90",
          "180-365",
          "30-90",
          "90-180",
          "180-365",
          "180-365",
          "30-90",
          "90-180",
          "180-365",
          "180-365",
          "90-180",
          "90-180",
          "180-365",
          "90-180",
          "90-180",
          "180-365",
          "30-90",
          "180-365",
          "30-90",
          "180-365",
          "30-90",
          "90-180",
          "30-90",
          "90-180",
          "30-90",
          "180-365",
          "90-180",
          "30-90",
          "180-365",
          "90-180",
          "90-180",
          "90-180",
          "180-365",
          "90-180",
          "30-90",
          "30-90",
          "90-180",
          "30-90",
          "30-90",
          "90-180",
          "90-180",
          "30-90",
          "180-365",
          "30-90",
          "30-90",
          "30-90",
          "180-365",
          "90-180",
          "180-365",
          "180-365",
          "30-90",
          "30-90",
          "90-180",
          "180-365",
          "30-90",
          "180-365",
          "90-180",
          "180-365",
          "180-365",
          "30-90",
          "90-180",
          "90-180",
          "30-90",
          "90-180",
          "180-365",
          "30-90",
          "30-90",
          "30-90",
          "180-365",
          "90-180",
          "30-90",
          "180-365",
          "30-90",
          "90-180",
          "30-90",
          "30-90",
          "30-90",
          "180-365",
          "30-90",
          "180-365",
          "90-180",
          "90-180",
          "90-180",
          "90-180",
          "90-180",
          "180-365",
          "180-365",
          "90-180",
          "30-90",
          "90-180",
          "90-180",
          "30-90",
          "90-180",
          "90-180",
          "90-180",
          "90-180",
          "90-180",
          "90-180",
          "90-180",
          "180-365",
          "90-180",
          "90-180",
          "30-90",
          "30-90",
          "30-90",
          "90-180",
          "30-90",
          "180-365",
          "90-180",
          "30-90",
          "30-90",
          "180-365",
          "30-90",
          "90-180",
          "90-180",
          "90-180",
          "30-90",
          "180-365",
          "30-90",
          "0-30",
          "90-180",
          "90-180",
          "30-90",
          "180-365",
          "180-365",
          "90-180",
          "180-365",
          "30-90",
          "30-90",
          "30-90",
          "90-180",
          "180-365",
          "90-180",
          "90-180",
          "30-90",
          "90-180",
          "90-180",
          "30-90",
          "90-180",
          "180-365",
          "180-365",
          "180-365",
          "90-180",
          "180-365",
          "180-365",
          "90-180",
          "90-180",
          "30-90",
          "90-180",
          "30-90",
          "30-90",
          "90-180",
          "30-90",
          "90-180",
          "90-180",
          "180-365",
          "30-90",
          "30-90",
          "90-180",
          "90-180",
          "180-365",
          "90-180",
          "90-180",
          "30-90",
          "30-90",
          "180-365",
          "90-180",
          "90-180",
          "90-180",
          "90-180",
          "90-180",
          "90-180",
          "30-90",
          "180-365",
          "90-180",
          "90-180",
          "90-180",
          "30-90",
          "30-90",
          "90-180",
          "30-90",
          "90-180",
          "180-365",
          "90-180",
          "90-180",
          "180-365",
          "30-90",
          "30-90",
          "90-180",
          "90-180",
          "30-90",
          "90-180",
          "30-90",
          "30-90",
          "90-180",
          "30-90",
          "90-180",
          "90-180",
          "180-365",
          "180-365",
          "30-90",
          "90-180",
          "0-30",
          "180-365",
          "180-365",
          "90-180",
          "90-180",
          "30-90",
          "180-365",
          "90-180",
          "30-90",
          "90-180",
          "30-90",
          "90-180",
          "90-180",
          "180-365",
          "90-180",
          "30-90",
          "90-180",
          "30-90",
          "30-90",
          "30-90",
          "30-90",
          "30-90",
          "30-90",
          "30-90",
          "90-180",
          "90-180",
          "90-180",
          "90-180",
          "30-90",
          "30-90",
          "90-180",
          "90-180",
          "180-365",
          "90-180",
          "180-365",
          "90-180",
          "30-90",
          "90-180",
          "90-180",
          "90-180",
          "90-180",
          "90-180",
          "90-180",
          "30-90",
          "180-365",
          "90-180",
          "180-365",
          "180-365",
          "90-180",
          "180-365",
          "30-90",
          "90-180",
          "90-180",
          "90-180",
          "90-180",
          "30-90",
          "30-90",
          "90-180",
          "30-90",
          "90-180",
          "90-180",
          "90-180",
          "0-30",
          "90-180",
          "90-180",
          "90-180",
          "90-180",
          "90-180",
          "30-90",
          "180-365",
          "30-90",
          "30-90",
          "30-90",
          "90-180",
          "0-30",
          "90-180",
          "90-180",
          "30-90",
          "90-180",
          "30-90",
          "90-180",
          "30-90",
          "90-180",
          "30-90",
          "180-365",
          "30-90",
          "90-180",
          "30-90",
          "90-180",
          "30-90",
          "180-365",
          "90-180",
          "90-180",
          "30-90",
          "30-90",
          "30-90",
          "30-90",
          "90-180",
          "90-180",
          "90-180",
          "90-180",
          "30-90",
          "90-180",
          "180-365",
          "30-90",
          "30-90",
          "180-365",
          "90-180",
          "90-180",
          "180-365",
          "180-365",
          "90-180",
          "90-180",
          "90-180",
          "180-365",
          "30-90",
          "30-90",
          "90-180",
          "30-90",
          "30-90",
          "90-180",
          "180-365",
          "180-365",
          "90-180",
          "0-30",
          "90-180",
          "180-365",
          "180-365",
          "180-365",
          "180-365",
          "90-180",
          "180-365",
          "30-90",
          "90-180",
          "30-90",
          "180-365",
          "90-180",
          "90-180",
          "90-180",
          "30-90",
          "90-180",
          "30-90",
          "0-30",
          "180-365",
          "90-180",
          "90-180",
          "180-365",
          "90-180",
          "90-180",
          "30-90",
          "90-180",
          "180-365",
          "30-90",
          "90-180",
          "90-180",
          "30-90",
          "90-180",
          "30-90",
          "30-90",
          "180-365",
          "30-90",
          "180-365",
          "90-180",
          "30-90",
          "90-180",
          "90-180",
          "90-180",
          "30-90",
          "30-90",
          "90-180",
          "30-90",
          "180-365",
          "30-90",
          "90-180",
          "90-180",
          "90-180",
          "30-90",
          "30-90",
          "90-180",
          "90-180",
          "90-180",
          "90-180",
          "90-180",
          "90-180",
          "90-180",
          "90-180",
          "30-90",
          "30-90",
          "90-180",
          "90-180",
          "90-180",
          "90-180",
          "30-90",
          "90-180",
          "30-90",
          "30-90",
          "90-180",
          "180-365",
          "90-180",
          "180-365",
          "90-180",
          "90-180",
          "90-180",
          "90-180",
          "90-180",
          "90-180",
          "180-365",
          "90-180",
          "30-90",
          "90-180",
          "30-90",
          "90-180",
          "30-90",
          "90-180",
          "90-180",
          "30-90",
          "90-180",
          "90-180",
          "90-180",
          "90-180",
          "90-180",
          "90-180",
          "90-180",
          "90-180",
          "90-180",
          "180-365",
          "180-365",
          "180-365",
          "30-90",
          "30-90",
          "30-90",
          "90-180",
          "90-180",
          "90-180",
          "30-90"
         ],
         "xaxis": "x",
         "y": [
          1,
          1,
          1,
          1,
          1,
          1,
          1,
          1,
          1,
          1,
          1,
          1,
          1,
          1,
          1,
          1,
          1,
          1,
          1,
          1,
          1,
          1,
          1,
          1,
          1,
          1,
          1,
          1,
          1,
          1,
          1,
          1,
          1,
          1,
          1,
          1,
          1,
          1,
          1,
          1,
          1,
          1,
          1,
          1,
          1,
          1,
          1,
          1,
          1,
          1,
          1,
          1,
          1,
          1,
          1,
          1,
          1,
          1,
          1,
          1,
          1,
          1,
          1,
          1,
          1,
          1,
          1,
          1,
          1,
          1,
          1,
          1,
          1,
          1,
          1,
          1,
          1,
          1,
          1,
          1,
          1,
          1,
          1,
          1,
          1,
          1,
          1,
          1,
          1,
          1,
          1,
          1,
          1,
          1,
          1,
          1,
          1,
          1,
          1,
          1,
          1,
          1,
          1,
          1,
          1,
          1,
          1,
          1,
          1,
          1,
          1,
          1,
          1,
          1,
          1,
          1,
          1,
          1,
          1,
          1,
          1,
          1,
          1,
          1,
          1,
          1,
          1,
          1,
          1,
          1,
          1,
          1,
          1,
          1,
          1,
          1,
          1,
          1,
          1,
          1,
          1,
          1,
          1,
          1,
          1,
          1,
          1,
          1,
          1,
          1,
          1,
          1,
          1,
          1,
          1,
          1,
          1,
          1,
          1,
          1,
          1,
          1,
          1,
          1,
          1,
          1,
          1,
          1,
          1,
          1,
          1,
          1,
          1,
          1,
          1,
          1,
          1,
          1,
          1,
          1,
          1,
          1,
          1,
          1,
          1,
          1,
          1,
          1,
          1,
          1,
          1,
          1,
          1,
          1,
          1,
          1,
          1,
          1,
          1,
          1,
          1,
          1,
          1,
          1,
          1,
          1,
          1,
          1,
          1,
          1,
          1,
          1,
          1,
          1,
          1,
          1,
          1,
          1,
          1,
          1,
          1,
          1,
          1,
          1,
          1,
          1,
          1,
          1,
          1,
          1,
          1,
          1,
          1,
          1,
          1,
          1,
          1,
          1,
          1,
          1,
          1,
          1,
          1,
          1,
          1,
          1,
          1,
          1,
          1,
          1,
          1,
          1,
          1,
          1,
          1,
          1,
          1,
          1,
          1,
          1,
          1,
          1,
          1,
          1,
          1,
          1,
          1,
          1,
          1,
          1,
          1,
          1,
          1,
          1,
          1,
          1,
          1,
          1,
          1,
          1,
          1,
          1,
          1,
          1,
          1,
          1,
          1,
          1,
          1,
          1,
          1,
          1,
          1,
          1,
          1,
          1,
          1,
          1,
          1,
          1,
          1,
          1,
          1,
          1,
          1,
          1,
          1,
          1,
          1,
          1,
          1,
          1,
          1,
          1,
          1,
          1,
          1,
          1,
          1,
          1,
          1,
          1,
          1,
          1,
          1,
          1,
          1,
          1,
          1,
          1,
          1,
          1,
          1,
          1,
          1,
          1,
          1,
          1,
          1,
          1,
          1,
          1,
          1,
          1,
          1,
          1,
          1,
          1,
          1,
          1,
          1,
          1,
          1,
          1,
          1,
          1,
          1,
          1,
          1,
          1,
          1,
          1,
          1,
          1,
          1,
          1,
          1,
          1,
          1,
          1,
          1,
          1,
          1,
          1,
          1,
          1,
          1,
          1,
          1,
          1,
          1,
          1,
          1,
          1,
          1,
          1,
          1,
          1,
          1,
          1,
          1,
          1,
          1,
          1,
          1,
          1,
          1,
          1,
          1,
          1,
          1,
          1,
          1,
          1,
          1,
          1,
          1,
          1,
          1,
          1,
          1,
          1,
          1,
          1,
          1,
          1,
          1,
          1,
          1,
          1,
          1,
          1,
          1,
          1,
          1,
          1,
          1,
          1,
          1,
          1,
          1,
          1,
          1,
          1,
          1,
          1,
          1,
          1,
          1,
          1,
          1,
          1,
          1,
          1,
          1,
          1,
          1,
          1,
          1,
          1,
          1,
          1,
          1,
          1,
          1,
          1,
          1,
          1,
          1,
          1,
          1,
          1,
          1,
          1,
          1,
          1,
          1,
          1,
          1,
          1,
          1,
          1,
          1,
          1,
          1,
          1,
          1,
          1,
          1,
          1,
          1,
          1,
          1,
          1,
          1,
          1,
          1,
          1,
          1,
          1,
          1,
          1,
          1,
          1,
          1,
          1,
          1,
          1,
          1,
          1,
          1,
          1,
          1,
          1,
          1,
          1,
          1,
          1,
          1,
          1,
          1,
          1,
          1,
          1,
          1,
          1,
          1,
          1,
          1,
          1,
          1,
          1,
          1,
          1,
          1,
          1,
          1,
          1,
          1,
          1,
          1,
          1,
          1,
          1,
          1,
          1,
          1,
          1,
          1,
          1,
          1,
          1,
          1,
          1,
          1,
          1,
          1,
          1,
          1,
          1,
          1,
          1,
          1,
          1,
          1,
          1,
          1,
          1,
          1,
          1,
          1,
          1,
          1,
          1,
          1,
          1,
          1,
          1,
          1,
          1,
          1,
          1,
          1,
          1,
          1,
          1,
          1,
          1,
          1,
          1,
          1,
          1,
          1,
          1,
          1,
          1,
          1,
          1,
          1,
          1,
          1,
          1,
          1,
          1,
          1,
          1,
          1,
          1,
          1,
          1,
          1,
          1,
          1,
          1,
          1,
          1,
          1,
          1,
          1,
          1,
          1,
          1,
          1,
          1,
          1,
          1,
          1,
          1,
          1,
          1,
          1,
          1,
          1,
          1,
          1,
          1,
          1,
          1,
          1,
          1,
          1,
          1,
          1,
          1,
          1,
          1,
          1,
          1,
          1,
          1,
          1,
          1,
          1,
          1,
          1,
          1,
          1,
          1,
          1,
          1,
          1,
          1,
          1,
          1,
          1,
          1,
          1,
          1,
          1,
          1,
          1,
          1,
          1,
          1,
          1,
          1,
          1,
          1,
          1,
          1,
          1,
          1,
          1,
          1,
          1,
          1,
          1,
          1,
          1,
          1,
          1,
          1,
          1,
          1,
          1,
          1,
          1,
          1,
          1,
          1,
          1,
          1,
          1,
          1,
          1,
          1,
          1,
          1,
          1,
          1,
          1,
          1,
          1,
          1,
          1,
          1,
          1,
          1,
          1,
          1,
          1,
          1,
          1,
          1,
          1,
          1,
          1,
          1,
          1,
          1,
          1,
          1,
          1,
          1,
          1,
          1,
          1,
          1,
          1,
          1,
          1,
          1,
          1,
          1,
          1,
          1,
          1,
          1,
          1,
          1,
          1,
          1,
          1,
          1,
          1,
          1,
          1,
          1,
          1,
          1,
          1,
          1,
          1,
          1,
          1,
          1,
          1,
          1,
          1,
          1,
          1,
          1,
          1,
          1,
          1,
          1,
          1,
          1,
          1,
          1,
          1,
          1,
          1,
          1,
          1,
          1,
          1,
          1,
          1,
          1,
          1,
          1,
          1,
          1,
          1,
          1,
          1,
          1,
          1,
          1,
          1,
          1,
          1,
          1,
          1,
          1,
          1,
          1,
          1,
          1,
          1,
          1,
          1,
          1,
          1,
          1,
          1,
          1,
          1,
          1,
          1,
          1,
          1,
          1,
          1,
          1,
          1,
          1,
          1,
          1,
          1,
          1,
          1,
          1,
          1,
          1,
          1,
          1,
          1,
          1,
          1,
          1,
          1,
          1,
          1,
          1,
          1,
          1
         ],
         "yaxis": "y"
        }
       ],
       "layout": {
        "barmode": "relative",
        "legend": {
         "title": {
          "text": "variable"
         },
         "tracegroupgap": 0
        },
        "margin": {
         "t": 60
        },
        "template": {
         "data": {
          "bar": [
           {
            "error_x": {
             "color": "#2a3f5f"
            },
            "error_y": {
             "color": "#2a3f5f"
            },
            "marker": {
             "line": {
              "color": "#E5ECF6",
              "width": 0.5
             },
             "pattern": {
              "fillmode": "overlay",
              "size": 10,
              "solidity": 0.2
             }
            },
            "type": "bar"
           }
          ],
          "barpolar": [
           {
            "marker": {
             "line": {
              "color": "#E5ECF6",
              "width": 0.5
             },
             "pattern": {
              "fillmode": "overlay",
              "size": 10,
              "solidity": 0.2
             }
            },
            "type": "barpolar"
           }
          ],
          "carpet": [
           {
            "aaxis": {
             "endlinecolor": "#2a3f5f",
             "gridcolor": "white",
             "linecolor": "white",
             "minorgridcolor": "white",
             "startlinecolor": "#2a3f5f"
            },
            "baxis": {
             "endlinecolor": "#2a3f5f",
             "gridcolor": "white",
             "linecolor": "white",
             "minorgridcolor": "white",
             "startlinecolor": "#2a3f5f"
            },
            "type": "carpet"
           }
          ],
          "choropleth": [
           {
            "colorbar": {
             "outlinewidth": 0,
             "ticks": ""
            },
            "type": "choropleth"
           }
          ],
          "contour": [
           {
            "colorbar": {
             "outlinewidth": 0,
             "ticks": ""
            },
            "colorscale": [
             [
              0,
              "#0d0887"
             ],
             [
              0.1111111111111111,
              "#46039f"
             ],
             [
              0.2222222222222222,
              "#7201a8"
             ],
             [
              0.3333333333333333,
              "#9c179e"
             ],
             [
              0.4444444444444444,
              "#bd3786"
             ],
             [
              0.5555555555555556,
              "#d8576b"
             ],
             [
              0.6666666666666666,
              "#ed7953"
             ],
             [
              0.7777777777777778,
              "#fb9f3a"
             ],
             [
              0.8888888888888888,
              "#fdca26"
             ],
             [
              1,
              "#f0f921"
             ]
            ],
            "type": "contour"
           }
          ],
          "contourcarpet": [
           {
            "colorbar": {
             "outlinewidth": 0,
             "ticks": ""
            },
            "type": "contourcarpet"
           }
          ],
          "heatmap": [
           {
            "colorbar": {
             "outlinewidth": 0,
             "ticks": ""
            },
            "colorscale": [
             [
              0,
              "#0d0887"
             ],
             [
              0.1111111111111111,
              "#46039f"
             ],
             [
              0.2222222222222222,
              "#7201a8"
             ],
             [
              0.3333333333333333,
              "#9c179e"
             ],
             [
              0.4444444444444444,
              "#bd3786"
             ],
             [
              0.5555555555555556,
              "#d8576b"
             ],
             [
              0.6666666666666666,
              "#ed7953"
             ],
             [
              0.7777777777777778,
              "#fb9f3a"
             ],
             [
              0.8888888888888888,
              "#fdca26"
             ],
             [
              1,
              "#f0f921"
             ]
            ],
            "type": "heatmap"
           }
          ],
          "heatmapgl": [
           {
            "colorbar": {
             "outlinewidth": 0,
             "ticks": ""
            },
            "colorscale": [
             [
              0,
              "#0d0887"
             ],
             [
              0.1111111111111111,
              "#46039f"
             ],
             [
              0.2222222222222222,
              "#7201a8"
             ],
             [
              0.3333333333333333,
              "#9c179e"
             ],
             [
              0.4444444444444444,
              "#bd3786"
             ],
             [
              0.5555555555555556,
              "#d8576b"
             ],
             [
              0.6666666666666666,
              "#ed7953"
             ],
             [
              0.7777777777777778,
              "#fb9f3a"
             ],
             [
              0.8888888888888888,
              "#fdca26"
             ],
             [
              1,
              "#f0f921"
             ]
            ],
            "type": "heatmapgl"
           }
          ],
          "histogram": [
           {
            "marker": {
             "pattern": {
              "fillmode": "overlay",
              "size": 10,
              "solidity": 0.2
             }
            },
            "type": "histogram"
           }
          ],
          "histogram2d": [
           {
            "colorbar": {
             "outlinewidth": 0,
             "ticks": ""
            },
            "colorscale": [
             [
              0,
              "#0d0887"
             ],
             [
              0.1111111111111111,
              "#46039f"
             ],
             [
              0.2222222222222222,
              "#7201a8"
             ],
             [
              0.3333333333333333,
              "#9c179e"
             ],
             [
              0.4444444444444444,
              "#bd3786"
             ],
             [
              0.5555555555555556,
              "#d8576b"
             ],
             [
              0.6666666666666666,
              "#ed7953"
             ],
             [
              0.7777777777777778,
              "#fb9f3a"
             ],
             [
              0.8888888888888888,
              "#fdca26"
             ],
             [
              1,
              "#f0f921"
             ]
            ],
            "type": "histogram2d"
           }
          ],
          "histogram2dcontour": [
           {
            "colorbar": {
             "outlinewidth": 0,
             "ticks": ""
            },
            "colorscale": [
             [
              0,
              "#0d0887"
             ],
             [
              0.1111111111111111,
              "#46039f"
             ],
             [
              0.2222222222222222,
              "#7201a8"
             ],
             [
              0.3333333333333333,
              "#9c179e"
             ],
             [
              0.4444444444444444,
              "#bd3786"
             ],
             [
              0.5555555555555556,
              "#d8576b"
             ],
             [
              0.6666666666666666,
              "#ed7953"
             ],
             [
              0.7777777777777778,
              "#fb9f3a"
             ],
             [
              0.8888888888888888,
              "#fdca26"
             ],
             [
              1,
              "#f0f921"
             ]
            ],
            "type": "histogram2dcontour"
           }
          ],
          "mesh3d": [
           {
            "colorbar": {
             "outlinewidth": 0,
             "ticks": ""
            },
            "type": "mesh3d"
           }
          ],
          "parcoords": [
           {
            "line": {
             "colorbar": {
              "outlinewidth": 0,
              "ticks": ""
             }
            },
            "type": "parcoords"
           }
          ],
          "pie": [
           {
            "automargin": true,
            "type": "pie"
           }
          ],
          "scatter": [
           {
            "marker": {
             "colorbar": {
              "outlinewidth": 0,
              "ticks": ""
             }
            },
            "type": "scatter"
           }
          ],
          "scatter3d": [
           {
            "line": {
             "colorbar": {
              "outlinewidth": 0,
              "ticks": ""
             }
            },
            "marker": {
             "colorbar": {
              "outlinewidth": 0,
              "ticks": ""
             }
            },
            "type": "scatter3d"
           }
          ],
          "scattercarpet": [
           {
            "marker": {
             "colorbar": {
              "outlinewidth": 0,
              "ticks": ""
             }
            },
            "type": "scattercarpet"
           }
          ],
          "scattergeo": [
           {
            "marker": {
             "colorbar": {
              "outlinewidth": 0,
              "ticks": ""
             }
            },
            "type": "scattergeo"
           }
          ],
          "scattergl": [
           {
            "marker": {
             "colorbar": {
              "outlinewidth": 0,
              "ticks": ""
             }
            },
            "type": "scattergl"
           }
          ],
          "scattermapbox": [
           {
            "marker": {
             "colorbar": {
              "outlinewidth": 0,
              "ticks": ""
             }
            },
            "type": "scattermapbox"
           }
          ],
          "scatterpolar": [
           {
            "marker": {
             "colorbar": {
              "outlinewidth": 0,
              "ticks": ""
             }
            },
            "type": "scatterpolar"
           }
          ],
          "scatterpolargl": [
           {
            "marker": {
             "colorbar": {
              "outlinewidth": 0,
              "ticks": ""
             }
            },
            "type": "scatterpolargl"
           }
          ],
          "scatterternary": [
           {
            "marker": {
             "colorbar": {
              "outlinewidth": 0,
              "ticks": ""
             }
            },
            "type": "scatterternary"
           }
          ],
          "surface": [
           {
            "colorbar": {
             "outlinewidth": 0,
             "ticks": ""
            },
            "colorscale": [
             [
              0,
              "#0d0887"
             ],
             [
              0.1111111111111111,
              "#46039f"
             ],
             [
              0.2222222222222222,
              "#7201a8"
             ],
             [
              0.3333333333333333,
              "#9c179e"
             ],
             [
              0.4444444444444444,
              "#bd3786"
             ],
             [
              0.5555555555555556,
              "#d8576b"
             ],
             [
              0.6666666666666666,
              "#ed7953"
             ],
             [
              0.7777777777777778,
              "#fb9f3a"
             ],
             [
              0.8888888888888888,
              "#fdca26"
             ],
             [
              1,
              "#f0f921"
             ]
            ],
            "type": "surface"
           }
          ],
          "table": [
           {
            "cells": {
             "fill": {
              "color": "#EBF0F8"
             },
             "line": {
              "color": "white"
             }
            },
            "header": {
             "fill": {
              "color": "#C8D4E3"
             },
             "line": {
              "color": "white"
             }
            },
            "type": "table"
           }
          ]
         },
         "layout": {
          "annotationdefaults": {
           "arrowcolor": "#2a3f5f",
           "arrowhead": 0,
           "arrowwidth": 1
          },
          "autotypenumbers": "strict",
          "coloraxis": {
           "colorbar": {
            "outlinewidth": 0,
            "ticks": ""
           }
          },
          "colorscale": {
           "diverging": [
            [
             0,
             "#8e0152"
            ],
            [
             0.1,
             "#c51b7d"
            ],
            [
             0.2,
             "#de77ae"
            ],
            [
             0.3,
             "#f1b6da"
            ],
            [
             0.4,
             "#fde0ef"
            ],
            [
             0.5,
             "#f7f7f7"
            ],
            [
             0.6,
             "#e6f5d0"
            ],
            [
             0.7,
             "#b8e186"
            ],
            [
             0.8,
             "#7fbc41"
            ],
            [
             0.9,
             "#4d9221"
            ],
            [
             1,
             "#276419"
            ]
           ],
           "sequential": [
            [
             0,
             "#0d0887"
            ],
            [
             0.1111111111111111,
             "#46039f"
            ],
            [
             0.2222222222222222,
             "#7201a8"
            ],
            [
             0.3333333333333333,
             "#9c179e"
            ],
            [
             0.4444444444444444,
             "#bd3786"
            ],
            [
             0.5555555555555556,
             "#d8576b"
            ],
            [
             0.6666666666666666,
             "#ed7953"
            ],
            [
             0.7777777777777778,
             "#fb9f3a"
            ],
            [
             0.8888888888888888,
             "#fdca26"
            ],
            [
             1,
             "#f0f921"
            ]
           ],
           "sequentialminus": [
            [
             0,
             "#0d0887"
            ],
            [
             0.1111111111111111,
             "#46039f"
            ],
            [
             0.2222222222222222,
             "#7201a8"
            ],
            [
             0.3333333333333333,
             "#9c179e"
            ],
            [
             0.4444444444444444,
             "#bd3786"
            ],
            [
             0.5555555555555556,
             "#d8576b"
            ],
            [
             0.6666666666666666,
             "#ed7953"
            ],
            [
             0.7777777777777778,
             "#fb9f3a"
            ],
            [
             0.8888888888888888,
             "#fdca26"
            ],
            [
             1,
             "#f0f921"
            ]
           ]
          },
          "colorway": [
           "#636efa",
           "#EF553B",
           "#00cc96",
           "#ab63fa",
           "#FFA15A",
           "#19d3f3",
           "#FF6692",
           "#B6E880",
           "#FF97FF",
           "#FECB52"
          ],
          "font": {
           "color": "#2a3f5f"
          },
          "geo": {
           "bgcolor": "white",
           "lakecolor": "white",
           "landcolor": "#E5ECF6",
           "showlakes": true,
           "showland": true,
           "subunitcolor": "white"
          },
          "hoverlabel": {
           "align": "left"
          },
          "hovermode": "closest",
          "mapbox": {
           "style": "light"
          },
          "paper_bgcolor": "white",
          "plot_bgcolor": "#E5ECF6",
          "polar": {
           "angularaxis": {
            "gridcolor": "white",
            "linecolor": "white",
            "ticks": ""
           },
           "bgcolor": "#E5ECF6",
           "radialaxis": {
            "gridcolor": "white",
            "linecolor": "white",
            "ticks": ""
           }
          },
          "scene": {
           "xaxis": {
            "backgroundcolor": "#E5ECF6",
            "gridcolor": "white",
            "gridwidth": 2,
            "linecolor": "white",
            "showbackground": true,
            "ticks": "",
            "zerolinecolor": "white"
           },
           "yaxis": {
            "backgroundcolor": "#E5ECF6",
            "gridcolor": "white",
            "gridwidth": 2,
            "linecolor": "white",
            "showbackground": true,
            "ticks": "",
            "zerolinecolor": "white"
           },
           "zaxis": {
            "backgroundcolor": "#E5ECF6",
            "gridcolor": "white",
            "gridwidth": 2,
            "linecolor": "white",
            "showbackground": true,
            "ticks": "",
            "zerolinecolor": "white"
           }
          },
          "shapedefaults": {
           "line": {
            "color": "#2a3f5f"
           }
          },
          "ternary": {
           "aaxis": {
            "gridcolor": "white",
            "linecolor": "white",
            "ticks": ""
           },
           "baxis": {
            "gridcolor": "white",
            "linecolor": "white",
            "ticks": ""
           },
           "bgcolor": "#E5ECF6",
           "caxis": {
            "gridcolor": "white",
            "linecolor": "white",
            "ticks": ""
           }
          },
          "title": {
           "x": 0.05
          },
          "xaxis": {
           "automargin": true,
           "gridcolor": "white",
           "linecolor": "white",
           "ticks": "",
           "title": {
            "standoff": 15
           },
           "zerolinecolor": "white",
           "zerolinewidth": 2
          },
          "yaxis": {
           "automargin": true,
           "gridcolor": "white",
           "linecolor": "white",
           "ticks": "",
           "title": {
            "standoff": 15
           },
           "zerolinecolor": "white",
           "zerolinewidth": 2
          }
         }
        },
        "xaxis": {
         "anchor": "y",
         "domain": [
          0,
          1
         ],
         "title": {
          "text": "value"
         }
        },
        "yaxis": {
         "anchor": "x",
         "domain": [
          0,
          1
         ],
         "title": {
          "text": "count"
         }
        }
       }
      },
      "text/html": [
       "<div>                            <div id=\"a0491fda-f3d0-4062-95a7-57d131a52e78\" class=\"plotly-graph-div\" style=\"height:525px; width:100%;\"></div>            <script type=\"text/javascript\">                require([\"plotly\"], function(Plotly) {                    window.PLOTLYENV=window.PLOTLYENV || {};                                    if (document.getElementById(\"a0491fda-f3d0-4062-95a7-57d131a52e78\")) {                    Plotly.newPlot(                        \"a0491fda-f3d0-4062-95a7-57d131a52e78\",                        [{\"alignmentgroup\":\"True\",\"hovertemplate\":\"variable=0<br>value=%{x}<br>count=%{y}<extra></extra>\",\"legendgroup\":\"0\",\"marker\":{\"color\":\"#636efa\",\"pattern\":{\"shape\":\"\"}},\"name\":\"0\",\"offsetgroup\":\"0\",\"orientation\":\"v\",\"showlegend\":true,\"textposition\":\"auto\",\"x\":[\"90-180\",\"90-180\",\"30-90\",\"90-180\",\"30-90\",\"90-180\",\"90-180\",\"30-90\",\"90-180\",\"90-180\",\"90-180\",\"180-365\",\"180-365\",\"180-365\",\"30-90\",\"90-180\",\"90-180\",\"90-180\",\"30-90\",\"180-365\",\"30-90\",\"90-180\",\"90-180\",\"90-180\",\"30-90\",\"90-180\",\"90-180\",\"30-90\",\"30-90\",\"30-90\",\"90-180\",\"180-365\",\"30-90\",\"180-365\",\"30-90\",\"90-180\",\"90-180\",\"180-365\",\"30-90\",\"90-180\",\"90-180\",\"30-90\",\"180-365\",\"180-365\",\"90-180\",\"30-90\",\"90-180\",\"90-180\",\"90-180\",\"30-90\",\"30-90\",\"180-365\",\"90-180\",\"30-90\",\"30-90\",\"90-180\",\"90-180\",\"90-180\",\"30-90\",\"90-180\",\"30-90\",\"30-90\",\"90-180\",\"30-90\",\"30-90\",\"90-180\",\"90-180\",\"90-180\",\"30-90\",\"90-180\",\"180-365\",\"90-180\",\"180-365\",\"30-90\",\"90-180\",\"30-90\",\"30-90\",\"180-365\",\"90-180\",\"90-180\",\"90-180\",\"180-365\",\"30-90\",\"30-90\",\"90-180\",\"90-180\",\"180-365\",\"30-90\",\"90-180\",\"90-180\",\"90-180\",\"90-180\",\"90-180\",\"90-180\",\"90-180\",\"0-30\",\"90-180\",\"180-365\",\"180-365\",\"90-180\",\"30-90\",\"90-180\",\"30-90\",\"180-365\",\"90-180\",\"90-180\",\"90-180\",\"90-180\",\"90-180\",\"30-90\",\"30-90\",\"90-180\",\"180-365\",\"90-180\",\"30-90\",\"90-180\",\"180-365\",\"30-90\",\"90-180\",\"90-180\",\"30-90\",\"90-180\",\"30-90\",\"90-180\",\"30-90\",\"180-365\",\"180-365\",\"30-90\",\"180-365\",\"90-180\",\"90-180\",\"30-90\",\"180-365\",\"30-90\",\"90-180\",\"90-180\",\"90-180\",\"90-180\",\"30-90\",\"90-180\",\"180-365\",\"180-365\",\"30-90\",\"30-90\",\"90-180\",\"30-90\",\"90-180\",\"90-180\",\"90-180\",\"30-90\",\"30-90\",\"30-90\",\"30-90\",\"180-365\",\"90-180\",\"30-90\",\"90-180\",\"90-180\",\"90-180\",\"30-90\",\"30-90\",\"30-90\",\"90-180\",\"30-90\",\"0-30\",\"90-180\",\"90-180\",\"180-365\",\"30-90\",\"180-365\",\"30-90\",\"90-180\",\"90-180\",\"30-90\",\"30-90\",\"90-180\",\"90-180\",\"90-180\",\"180-365\",\"30-90\",\"30-90\",\"90-180\",\"180-365\",\"180-365\",\"90-180\",\"90-180\",\"30-90\",\"180-365\",\"180-365\",\"30-90\",\"180-365\",\"90-180\",\"90-180\",\"30-90\",\"180-365\",\"30-90\",\"0-30\",\"90-180\",\"90-180\",\"90-180\",\"90-180\",\"30-90\",\"180-365\",\"30-90\",\"30-90\",\"30-90\",\"30-90\",\"90-180\",\"30-90\",\"30-90\",\"30-90\",\"90-180\",\"90-180\",\"90-180\",\"90-180\",\"90-180\",\"30-90\",\"30-90\",\"90-180\",\"90-180\",\"180-365\",\"30-90\",\"90-180\",\"90-180\",\"90-180\",\"90-180\",\"90-180\",\"90-180\",\"90-180\",\"90-180\",\"90-180\",\"30-90\",\"180-365\",\"30-90\",\"90-180\",\"180-365\",\"180-365\",\"180-365\",\"180-365\",\"90-180\",\"30-90\",\"180-365\",\"180-365\",\"90-180\",\"30-90\",\"30-90\",\"90-180\",\"90-180\",\"90-180\",\"90-180\",\"90-180\",\"30-90\",\"30-90\",\"30-90\",\"180-365\",\"30-90\",\"90-180\",\"90-180\",\"90-180\",\"90-180\",\"90-180\",\"30-90\",\"90-180\",\"90-180\",\"90-180\",\"30-90\",\"30-90\",\"180-365\",\"90-180\",\"180-365\",\"30-90\",\"30-90\",\"180-365\",\"90-180\",\"30-90\",\"90-180\",\"30-90\",\"90-180\",\"90-180\",\"90-180\",\"90-180\",\"30-90\",\"90-180\",\"30-90\",\"90-180\",\"30-90\",\"90-180\",\"180-365\",\"90-180\",\"180-365\",\"30-90\",\"90-180\",\"90-180\",\"180-365\",\"90-180\",\"90-180\",\"90-180\",\"90-180\",\"90-180\",\"30-90\",\"180-365\",\"90-180\",\"90-180\",\"90-180\",\"90-180\",\"30-90\",\"180-365\",\"180-365\",\"180-365\",\"180-365\",\"180-365\",\"90-180\",\"30-90\",\"90-180\",\"90-180\",\"90-180\",\"30-90\",\"180-365\",\"30-90\",\"180-365\",\"90-180\",\"90-180\",\"30-90\",\"180-365\",\"90-180\",\"90-180\",\"30-90\",\"30-90\",\"90-180\",\"30-90\",\"90-180\",\"90-180\",\"90-180\",\"180-365\",\"30-90\",\"30-90\",\"90-180\",\"180-365\",\"180-365\",\"180-365\",\"180-365\",\"30-90\",\"180-365\",\"30-90\",\"90-180\",\"30-90\",\"90-180\",\"90-180\",\"90-180\",\"90-180\",\"180-365\",\"30-90\",\"30-90\",\"0-30\",\"90-180\",\"90-180\",\"90-180\",\"90-180\",\"90-180\",\"90-180\",\"180-365\",\"90-180\",\"180-365\",\"30-90\",\"90-180\",\"180-365\",\"30-90\",\"30-90\",\"30-90\",\"180-365\",\"90-180\",\"90-180\",\"90-180\",\"30-90\",\"180-365\",\"90-180\",\"90-180\",\"30-90\",\"180-365\",\"90-180\",\"30-90\",\"180-365\",\"180-365\",\"90-180\",\"180-365\",\"90-180\",\"90-180\",\"90-180\",\"90-180\",\"180-365\",\"180-365\",\"90-180\",\"30-90\",\"30-90\",\"30-90\",\"30-90\",\"180-365\",\"30-90\",\"180-365\",\"180-365\",\"0-30\",\"30-90\",\"180-365\",\"30-90\",\"90-180\",\"180-365\",\"180-365\",\"30-90\",\"90-180\",\"180-365\",\"180-365\",\"90-180\",\"90-180\",\"180-365\",\"90-180\",\"90-180\",\"180-365\",\"30-90\",\"180-365\",\"30-90\",\"180-365\",\"30-90\",\"90-180\",\"30-90\",\"90-180\",\"30-90\",\"180-365\",\"90-180\",\"30-90\",\"180-365\",\"90-180\",\"90-180\",\"90-180\",\"180-365\",\"90-180\",\"30-90\",\"30-90\",\"90-180\",\"30-90\",\"30-90\",\"90-180\",\"90-180\",\"30-90\",\"180-365\",\"30-90\",\"30-90\",\"30-90\",\"180-365\",\"90-180\",\"180-365\",\"180-365\",\"30-90\",\"30-90\",\"90-180\",\"180-365\",\"30-90\",\"180-365\",\"90-180\",\"180-365\",\"180-365\",\"30-90\",\"90-180\",\"90-180\",\"30-90\",\"90-180\",\"180-365\",\"30-90\",\"30-90\",\"30-90\",\"180-365\",\"90-180\",\"30-90\",\"180-365\",\"30-90\",\"90-180\",\"30-90\",\"30-90\",\"30-90\",\"180-365\",\"30-90\",\"180-365\",\"90-180\",\"90-180\",\"90-180\",\"90-180\",\"90-180\",\"180-365\",\"180-365\",\"90-180\",\"30-90\",\"90-180\",\"90-180\",\"30-90\",\"90-180\",\"90-180\",\"90-180\",\"90-180\",\"90-180\",\"90-180\",\"90-180\",\"180-365\",\"90-180\",\"90-180\",\"30-90\",\"30-90\",\"30-90\",\"90-180\",\"30-90\",\"180-365\",\"90-180\",\"30-90\",\"30-90\",\"180-365\",\"30-90\",\"90-180\",\"90-180\",\"90-180\",\"30-90\",\"180-365\",\"30-90\",\"0-30\",\"90-180\",\"90-180\",\"30-90\",\"180-365\",\"180-365\",\"90-180\",\"180-365\",\"30-90\",\"30-90\",\"30-90\",\"90-180\",\"180-365\",\"90-180\",\"90-180\",\"30-90\",\"90-180\",\"90-180\",\"30-90\",\"90-180\",\"180-365\",\"180-365\",\"180-365\",\"90-180\",\"180-365\",\"180-365\",\"90-180\",\"90-180\",\"30-90\",\"90-180\",\"30-90\",\"30-90\",\"90-180\",\"30-90\",\"90-180\",\"90-180\",\"180-365\",\"30-90\",\"30-90\",\"90-180\",\"90-180\",\"180-365\",\"90-180\",\"90-180\",\"30-90\",\"30-90\",\"180-365\",\"90-180\",\"90-180\",\"90-180\",\"90-180\",\"90-180\",\"90-180\",\"30-90\",\"180-365\",\"90-180\",\"90-180\",\"90-180\",\"30-90\",\"30-90\",\"90-180\",\"30-90\",\"90-180\",\"180-365\",\"90-180\",\"90-180\",\"180-365\",\"30-90\",\"30-90\",\"90-180\",\"90-180\",\"30-90\",\"90-180\",\"30-90\",\"30-90\",\"90-180\",\"30-90\",\"90-180\",\"90-180\",\"180-365\",\"180-365\",\"30-90\",\"90-180\",\"0-30\",\"180-365\",\"180-365\",\"90-180\",\"90-180\",\"30-90\",\"180-365\",\"90-180\",\"30-90\",\"90-180\",\"30-90\",\"90-180\",\"90-180\",\"180-365\",\"90-180\",\"30-90\",\"90-180\",\"30-90\",\"30-90\",\"30-90\",\"30-90\",\"30-90\",\"30-90\",\"30-90\",\"90-180\",\"90-180\",\"90-180\",\"90-180\",\"30-90\",\"30-90\",\"90-180\",\"90-180\",\"180-365\",\"90-180\",\"180-365\",\"90-180\",\"30-90\",\"90-180\",\"90-180\",\"90-180\",\"90-180\",\"90-180\",\"90-180\",\"30-90\",\"180-365\",\"90-180\",\"180-365\",\"180-365\",\"90-180\",\"180-365\",\"30-90\",\"90-180\",\"90-180\",\"90-180\",\"90-180\",\"30-90\",\"30-90\",\"90-180\",\"30-90\",\"90-180\",\"90-180\",\"90-180\",\"0-30\",\"90-180\",\"90-180\",\"90-180\",\"90-180\",\"90-180\",\"30-90\",\"180-365\",\"30-90\",\"30-90\",\"30-90\",\"90-180\",\"0-30\",\"90-180\",\"90-180\",\"30-90\",\"90-180\",\"30-90\",\"90-180\",\"30-90\",\"90-180\",\"30-90\",\"180-365\",\"30-90\",\"90-180\",\"30-90\",\"90-180\",\"30-90\",\"180-365\",\"90-180\",\"90-180\",\"30-90\",\"30-90\",\"30-90\",\"30-90\",\"90-180\",\"90-180\",\"90-180\",\"90-180\",\"30-90\",\"90-180\",\"180-365\",\"30-90\",\"30-90\",\"180-365\",\"90-180\",\"90-180\",\"180-365\",\"180-365\",\"90-180\",\"90-180\",\"90-180\",\"180-365\",\"30-90\",\"30-90\",\"90-180\",\"30-90\",\"30-90\",\"90-180\",\"180-365\",\"180-365\",\"90-180\",\"0-30\",\"90-180\",\"180-365\",\"180-365\",\"180-365\",\"180-365\",\"90-180\",\"180-365\",\"30-90\",\"90-180\",\"30-90\",\"180-365\",\"90-180\",\"90-180\",\"90-180\",\"30-90\",\"90-180\",\"30-90\",\"0-30\",\"180-365\",\"90-180\",\"90-180\",\"180-365\",\"90-180\",\"90-180\",\"30-90\",\"90-180\",\"180-365\",\"30-90\",\"90-180\",\"90-180\",\"30-90\",\"90-180\",\"30-90\",\"30-90\",\"180-365\",\"30-90\",\"180-365\",\"90-180\",\"30-90\",\"90-180\",\"90-180\",\"90-180\",\"30-90\",\"30-90\",\"90-180\",\"30-90\",\"180-365\",\"30-90\",\"90-180\",\"90-180\",\"90-180\",\"30-90\",\"30-90\",\"90-180\",\"90-180\",\"90-180\",\"90-180\",\"90-180\",\"90-180\",\"90-180\",\"90-180\",\"30-90\",\"30-90\",\"90-180\",\"90-180\",\"90-180\",\"90-180\",\"30-90\",\"90-180\",\"30-90\",\"30-90\",\"90-180\",\"180-365\",\"90-180\",\"180-365\",\"90-180\",\"90-180\",\"90-180\",\"90-180\",\"90-180\",\"90-180\",\"180-365\",\"90-180\",\"30-90\",\"90-180\",\"30-90\",\"90-180\",\"30-90\",\"90-180\",\"90-180\",\"30-90\",\"90-180\",\"90-180\",\"90-180\",\"90-180\",\"90-180\",\"90-180\",\"90-180\",\"90-180\",\"90-180\",\"180-365\",\"180-365\",\"180-365\",\"30-90\",\"30-90\",\"30-90\",\"90-180\",\"90-180\",\"90-180\",\"30-90\"],\"xaxis\":\"x\",\"y\":[1,1,1,1,1,1,1,1,1,1,1,1,1,1,1,1,1,1,1,1,1,1,1,1,1,1,1,1,1,1,1,1,1,1,1,1,1,1,1,1,1,1,1,1,1,1,1,1,1,1,1,1,1,1,1,1,1,1,1,1,1,1,1,1,1,1,1,1,1,1,1,1,1,1,1,1,1,1,1,1,1,1,1,1,1,1,1,1,1,1,1,1,1,1,1,1,1,1,1,1,1,1,1,1,1,1,1,1,1,1,1,1,1,1,1,1,1,1,1,1,1,1,1,1,1,1,1,1,1,1,1,1,1,1,1,1,1,1,1,1,1,1,1,1,1,1,1,1,1,1,1,1,1,1,1,1,1,1,1,1,1,1,1,1,1,1,1,1,1,1,1,1,1,1,1,1,1,1,1,1,1,1,1,1,1,1,1,1,1,1,1,1,1,1,1,1,1,1,1,1,1,1,1,1,1,1,1,1,1,1,1,1,1,1,1,1,1,1,1,1,1,1,1,1,1,1,1,1,1,1,1,1,1,1,1,1,1,1,1,1,1,1,1,1,1,1,1,1,1,1,1,1,1,1,1,1,1,1,1,1,1,1,1,1,1,1,1,1,1,1,1,1,1,1,1,1,1,1,1,1,1,1,1,1,1,1,1,1,1,1,1,1,1,1,1,1,1,1,1,1,1,1,1,1,1,1,1,1,1,1,1,1,1,1,1,1,1,1,1,1,1,1,1,1,1,1,1,1,1,1,1,1,1,1,1,1,1,1,1,1,1,1,1,1,1,1,1,1,1,1,1,1,1,1,1,1,1,1,1,1,1,1,1,1,1,1,1,1,1,1,1,1,1,1,1,1,1,1,1,1,1,1,1,1,1,1,1,1,1,1,1,1,1,1,1,1,1,1,1,1,1,1,1,1,1,1,1,1,1,1,1,1,1,1,1,1,1,1,1,1,1,1,1,1,1,1,1,1,1,1,1,1,1,1,1,1,1,1,1,1,1,1,1,1,1,1,1,1,1,1,1,1,1,1,1,1,1,1,1,1,1,1,1,1,1,1,1,1,1,1,1,1,1,1,1,1,1,1,1,1,1,1,1,1,1,1,1,1,1,1,1,1,1,1,1,1,1,1,1,1,1,1,1,1,1,1,1,1,1,1,1,1,1,1,1,1,1,1,1,1,1,1,1,1,1,1,1,1,1,1,1,1,1,1,1,1,1,1,1,1,1,1,1,1,1,1,1,1,1,1,1,1,1,1,1,1,1,1,1,1,1,1,1,1,1,1,1,1,1,1,1,1,1,1,1,1,1,1,1,1,1,1,1,1,1,1,1,1,1,1,1,1,1,1,1,1,1,1,1,1,1,1,1,1,1,1,1,1,1,1,1,1,1,1,1,1,1,1,1,1,1,1,1,1,1,1,1,1,1,1,1,1,1,1,1,1,1,1,1,1,1,1,1,1,1,1,1,1,1,1,1,1,1,1,1,1,1,1,1,1,1,1,1,1,1,1,1,1,1,1,1,1,1,1,1,1,1,1,1,1,1,1,1,1,1,1,1,1,1,1,1,1,1,1,1,1,1,1,1,1,1,1,1,1,1,1,1,1,1,1,1,1,1,1,1,1,1,1,1,1,1,1,1,1,1,1,1,1,1,1,1,1,1,1,1,1,1,1,1,1,1,1,1,1,1,1,1,1,1,1,1,1,1,1,1,1,1,1,1,1,1,1,1,1,1,1,1,1,1,1,1,1,1,1,1,1,1,1,1,1,1,1,1,1,1,1,1,1,1,1,1,1,1,1,1,1,1,1,1,1,1,1,1,1,1,1,1,1,1,1,1,1,1,1,1,1,1,1,1,1,1,1,1,1,1,1,1,1,1,1,1,1,1,1,1,1,1,1],\"yaxis\":\"y\",\"type\":\"bar\"}],                        {\"template\":{\"data\":{\"bar\":[{\"error_x\":{\"color\":\"#2a3f5f\"},\"error_y\":{\"color\":\"#2a3f5f\"},\"marker\":{\"line\":{\"color\":\"#E5ECF6\",\"width\":0.5},\"pattern\":{\"fillmode\":\"overlay\",\"size\":10,\"solidity\":0.2}},\"type\":\"bar\"}],\"barpolar\":[{\"marker\":{\"line\":{\"color\":\"#E5ECF6\",\"width\":0.5},\"pattern\":{\"fillmode\":\"overlay\",\"size\":10,\"solidity\":0.2}},\"type\":\"barpolar\"}],\"carpet\":[{\"aaxis\":{\"endlinecolor\":\"#2a3f5f\",\"gridcolor\":\"white\",\"linecolor\":\"white\",\"minorgridcolor\":\"white\",\"startlinecolor\":\"#2a3f5f\"},\"baxis\":{\"endlinecolor\":\"#2a3f5f\",\"gridcolor\":\"white\",\"linecolor\":\"white\",\"minorgridcolor\":\"white\",\"startlinecolor\":\"#2a3f5f\"},\"type\":\"carpet\"}],\"choropleth\":[{\"colorbar\":{\"outlinewidth\":0,\"ticks\":\"\"},\"type\":\"choropleth\"}],\"contour\":[{\"colorbar\":{\"outlinewidth\":0,\"ticks\":\"\"},\"colorscale\":[[0.0,\"#0d0887\"],[0.1111111111111111,\"#46039f\"],[0.2222222222222222,\"#7201a8\"],[0.3333333333333333,\"#9c179e\"],[0.4444444444444444,\"#bd3786\"],[0.5555555555555556,\"#d8576b\"],[0.6666666666666666,\"#ed7953\"],[0.7777777777777778,\"#fb9f3a\"],[0.8888888888888888,\"#fdca26\"],[1.0,\"#f0f921\"]],\"type\":\"contour\"}],\"contourcarpet\":[{\"colorbar\":{\"outlinewidth\":0,\"ticks\":\"\"},\"type\":\"contourcarpet\"}],\"heatmap\":[{\"colorbar\":{\"outlinewidth\":0,\"ticks\":\"\"},\"colorscale\":[[0.0,\"#0d0887\"],[0.1111111111111111,\"#46039f\"],[0.2222222222222222,\"#7201a8\"],[0.3333333333333333,\"#9c179e\"],[0.4444444444444444,\"#bd3786\"],[0.5555555555555556,\"#d8576b\"],[0.6666666666666666,\"#ed7953\"],[0.7777777777777778,\"#fb9f3a\"],[0.8888888888888888,\"#fdca26\"],[1.0,\"#f0f921\"]],\"type\":\"heatmap\"}],\"heatmapgl\":[{\"colorbar\":{\"outlinewidth\":0,\"ticks\":\"\"},\"colorscale\":[[0.0,\"#0d0887\"],[0.1111111111111111,\"#46039f\"],[0.2222222222222222,\"#7201a8\"],[0.3333333333333333,\"#9c179e\"],[0.4444444444444444,\"#bd3786\"],[0.5555555555555556,\"#d8576b\"],[0.6666666666666666,\"#ed7953\"],[0.7777777777777778,\"#fb9f3a\"],[0.8888888888888888,\"#fdca26\"],[1.0,\"#f0f921\"]],\"type\":\"heatmapgl\"}],\"histogram\":[{\"marker\":{\"pattern\":{\"fillmode\":\"overlay\",\"size\":10,\"solidity\":0.2}},\"type\":\"histogram\"}],\"histogram2d\":[{\"colorbar\":{\"outlinewidth\":0,\"ticks\":\"\"},\"colorscale\":[[0.0,\"#0d0887\"],[0.1111111111111111,\"#46039f\"],[0.2222222222222222,\"#7201a8\"],[0.3333333333333333,\"#9c179e\"],[0.4444444444444444,\"#bd3786\"],[0.5555555555555556,\"#d8576b\"],[0.6666666666666666,\"#ed7953\"],[0.7777777777777778,\"#fb9f3a\"],[0.8888888888888888,\"#fdca26\"],[1.0,\"#f0f921\"]],\"type\":\"histogram2d\"}],\"histogram2dcontour\":[{\"colorbar\":{\"outlinewidth\":0,\"ticks\":\"\"},\"colorscale\":[[0.0,\"#0d0887\"],[0.1111111111111111,\"#46039f\"],[0.2222222222222222,\"#7201a8\"],[0.3333333333333333,\"#9c179e\"],[0.4444444444444444,\"#bd3786\"],[0.5555555555555556,\"#d8576b\"],[0.6666666666666666,\"#ed7953\"],[0.7777777777777778,\"#fb9f3a\"],[0.8888888888888888,\"#fdca26\"],[1.0,\"#f0f921\"]],\"type\":\"histogram2dcontour\"}],\"mesh3d\":[{\"colorbar\":{\"outlinewidth\":0,\"ticks\":\"\"},\"type\":\"mesh3d\"}],\"parcoords\":[{\"line\":{\"colorbar\":{\"outlinewidth\":0,\"ticks\":\"\"}},\"type\":\"parcoords\"}],\"pie\":[{\"automargin\":true,\"type\":\"pie\"}],\"scatter\":[{\"marker\":{\"colorbar\":{\"outlinewidth\":0,\"ticks\":\"\"}},\"type\":\"scatter\"}],\"scatter3d\":[{\"line\":{\"colorbar\":{\"outlinewidth\":0,\"ticks\":\"\"}},\"marker\":{\"colorbar\":{\"outlinewidth\":0,\"ticks\":\"\"}},\"type\":\"scatter3d\"}],\"scattercarpet\":[{\"marker\":{\"colorbar\":{\"outlinewidth\":0,\"ticks\":\"\"}},\"type\":\"scattercarpet\"}],\"scattergeo\":[{\"marker\":{\"colorbar\":{\"outlinewidth\":0,\"ticks\":\"\"}},\"type\":\"scattergeo\"}],\"scattergl\":[{\"marker\":{\"colorbar\":{\"outlinewidth\":0,\"ticks\":\"\"}},\"type\":\"scattergl\"}],\"scattermapbox\":[{\"marker\":{\"colorbar\":{\"outlinewidth\":0,\"ticks\":\"\"}},\"type\":\"scattermapbox\"}],\"scatterpolar\":[{\"marker\":{\"colorbar\":{\"outlinewidth\":0,\"ticks\":\"\"}},\"type\":\"scatterpolar\"}],\"scatterpolargl\":[{\"marker\":{\"colorbar\":{\"outlinewidth\":0,\"ticks\":\"\"}},\"type\":\"scatterpolargl\"}],\"scatterternary\":[{\"marker\":{\"colorbar\":{\"outlinewidth\":0,\"ticks\":\"\"}},\"type\":\"scatterternary\"}],\"surface\":[{\"colorbar\":{\"outlinewidth\":0,\"ticks\":\"\"},\"colorscale\":[[0.0,\"#0d0887\"],[0.1111111111111111,\"#46039f\"],[0.2222222222222222,\"#7201a8\"],[0.3333333333333333,\"#9c179e\"],[0.4444444444444444,\"#bd3786\"],[0.5555555555555556,\"#d8576b\"],[0.6666666666666666,\"#ed7953\"],[0.7777777777777778,\"#fb9f3a\"],[0.8888888888888888,\"#fdca26\"],[1.0,\"#f0f921\"]],\"type\":\"surface\"}],\"table\":[{\"cells\":{\"fill\":{\"color\":\"#EBF0F8\"},\"line\":{\"color\":\"white\"}},\"header\":{\"fill\":{\"color\":\"#C8D4E3\"},\"line\":{\"color\":\"white\"}},\"type\":\"table\"}]},\"layout\":{\"annotationdefaults\":{\"arrowcolor\":\"#2a3f5f\",\"arrowhead\":0,\"arrowwidth\":1},\"autotypenumbers\":\"strict\",\"coloraxis\":{\"colorbar\":{\"outlinewidth\":0,\"ticks\":\"\"}},\"colorscale\":{\"diverging\":[[0,\"#8e0152\"],[0.1,\"#c51b7d\"],[0.2,\"#de77ae\"],[0.3,\"#f1b6da\"],[0.4,\"#fde0ef\"],[0.5,\"#f7f7f7\"],[0.6,\"#e6f5d0\"],[0.7,\"#b8e186\"],[0.8,\"#7fbc41\"],[0.9,\"#4d9221\"],[1,\"#276419\"]],\"sequential\":[[0.0,\"#0d0887\"],[0.1111111111111111,\"#46039f\"],[0.2222222222222222,\"#7201a8\"],[0.3333333333333333,\"#9c179e\"],[0.4444444444444444,\"#bd3786\"],[0.5555555555555556,\"#d8576b\"],[0.6666666666666666,\"#ed7953\"],[0.7777777777777778,\"#fb9f3a\"],[0.8888888888888888,\"#fdca26\"],[1.0,\"#f0f921\"]],\"sequentialminus\":[[0.0,\"#0d0887\"],[0.1111111111111111,\"#46039f\"],[0.2222222222222222,\"#7201a8\"],[0.3333333333333333,\"#9c179e\"],[0.4444444444444444,\"#bd3786\"],[0.5555555555555556,\"#d8576b\"],[0.6666666666666666,\"#ed7953\"],[0.7777777777777778,\"#fb9f3a\"],[0.8888888888888888,\"#fdca26\"],[1.0,\"#f0f921\"]]},\"colorway\":[\"#636efa\",\"#EF553B\",\"#00cc96\",\"#ab63fa\",\"#FFA15A\",\"#19d3f3\",\"#FF6692\",\"#B6E880\",\"#FF97FF\",\"#FECB52\"],\"font\":{\"color\":\"#2a3f5f\"},\"geo\":{\"bgcolor\":\"white\",\"lakecolor\":\"white\",\"landcolor\":\"#E5ECF6\",\"showlakes\":true,\"showland\":true,\"subunitcolor\":\"white\"},\"hoverlabel\":{\"align\":\"left\"},\"hovermode\":\"closest\",\"mapbox\":{\"style\":\"light\"},\"paper_bgcolor\":\"white\",\"plot_bgcolor\":\"#E5ECF6\",\"polar\":{\"angularaxis\":{\"gridcolor\":\"white\",\"linecolor\":\"white\",\"ticks\":\"\"},\"bgcolor\":\"#E5ECF6\",\"radialaxis\":{\"gridcolor\":\"white\",\"linecolor\":\"white\",\"ticks\":\"\"}},\"scene\":{\"xaxis\":{\"backgroundcolor\":\"#E5ECF6\",\"gridcolor\":\"white\",\"gridwidth\":2,\"linecolor\":\"white\",\"showbackground\":true,\"ticks\":\"\",\"zerolinecolor\":\"white\"},\"yaxis\":{\"backgroundcolor\":\"#E5ECF6\",\"gridcolor\":\"white\",\"gridwidth\":2,\"linecolor\":\"white\",\"showbackground\":true,\"ticks\":\"\",\"zerolinecolor\":\"white\"},\"zaxis\":{\"backgroundcolor\":\"#E5ECF6\",\"gridcolor\":\"white\",\"gridwidth\":2,\"linecolor\":\"white\",\"showbackground\":true,\"ticks\":\"\",\"zerolinecolor\":\"white\"}},\"shapedefaults\":{\"line\":{\"color\":\"#2a3f5f\"}},\"ternary\":{\"aaxis\":{\"gridcolor\":\"white\",\"linecolor\":\"white\",\"ticks\":\"\"},\"baxis\":{\"gridcolor\":\"white\",\"linecolor\":\"white\",\"ticks\":\"\"},\"bgcolor\":\"#E5ECF6\",\"caxis\":{\"gridcolor\":\"white\",\"linecolor\":\"white\",\"ticks\":\"\"}},\"title\":{\"x\":0.05},\"xaxis\":{\"automargin\":true,\"gridcolor\":\"white\",\"linecolor\":\"white\",\"ticks\":\"\",\"title\":{\"standoff\":15},\"zerolinecolor\":\"white\",\"zerolinewidth\":2},\"yaxis\":{\"automargin\":true,\"gridcolor\":\"white\",\"linecolor\":\"white\",\"ticks\":\"\",\"title\":{\"standoff\":15},\"zerolinecolor\":\"white\",\"zerolinewidth\":2}}},\"xaxis\":{\"anchor\":\"y\",\"domain\":[0.0,1.0],\"title\":{\"text\":\"value\"}},\"yaxis\":{\"anchor\":\"x\",\"domain\":[0.0,1.0],\"title\":{\"text\":\"count\"}},\"legend\":{\"title\":{\"text\":\"variable\"},\"tracegroupgap\":0},\"margin\":{\"t\":60},\"barmode\":\"relative\"},                        {\"responsive\": true}                    ).then(function(){\n",
       "                            \n",
       "var gd = document.getElementById('a0491fda-f3d0-4062-95a7-57d131a52e78');\n",
       "var x = new MutationObserver(function (mutations, observer) {{\n",
       "        var display = window.getComputedStyle(gd).display;\n",
       "        if (!display || display === 'none') {{\n",
       "            console.log([gd, 'removed!']);\n",
       "            Plotly.purge(gd);\n",
       "            observer.disconnect();\n",
       "        }}\n",
       "}});\n",
       "\n",
       "// Listen for the removal of the full notebook cells\n",
       "var notebookContainer = gd.closest('#notebook-container');\n",
       "if (notebookContainer) {{\n",
       "    x.observe(notebookContainer, {childList: true});\n",
       "}}\n",
       "\n",
       "// Listen for the clearing of the current output cell\n",
       "var outputEl = gd.closest('.output');\n",
       "if (outputEl) {{\n",
       "    x.observe(outputEl, {childList: true});\n",
       "}}\n",
       "\n",
       "                        })                };                });            </script>        </div>"
      ]
     },
     "metadata": {},
     "output_type": "display_data"
    }
   ],
   "source": [
    "px.bar(clients_categories)"
   ]
  }
 ],
 "metadata": {
  "kernelspec": {
   "display_name": "Python 3 (ipykernel)",
   "language": "python",
   "name": "python3"
  },
  "language_info": {
   "codemirror_mode": {
    "name": "ipython",
    "version": 3
   },
   "file_extension": ".py",
   "mimetype": "text/x-python",
   "name": "python",
   "nbconvert_exporter": "python",
   "pygments_lexer": "ipython3",
   "version": "3.9.12"
  }
 },
 "nbformat": 4,
 "nbformat_minor": 5
}
